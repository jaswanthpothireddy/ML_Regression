{
 "cells": [
  {
   "attachments": {
    "size%204.png": {
     "image/png": "[encoded data removed]"
    }
   },
   "cell_type": "markdown",
   "metadata": {},
   "source": [
    "![size%204.png](attachment:size%204.png)"
   ]
  },
  {
   "cell_type": "markdown",
   "metadata": {},
   "source": [
    "### 1. Importing the relevant libraries"
   ]
  },
  {
   "cell_type": "code",
   "execution_count": 2,
   "metadata": {},
   "outputs": [],
   "source": [
    "import numpy as np\n",
    "import pandas as pd\n",
    "import matplotlib.pyplot as plt\n",
    "import seaborn as sns"
   ]
  },
  {
   "cell_type": "code",
   "execution_count": 3,
   "metadata": {},
   "outputs": [],
   "source": [
    "# CODE HERE\n",
    "import warnings\n",
    "warnings.filterwarnings('ignore')"
   ]
  },
  {
   "cell_type": "markdown",
   "metadata": {},
   "source": [
    "### 2. Loading the raw data"
   ]
  },
  {
   "cell_type": "markdown",
   "metadata": {},
   "source": [
    "#### Load the data from a .csv in the same folder"
   ]
  },
  {
   "cell_type": "code",
   "execution_count": 4,
   "metadata": {},
   "outputs": [],
   "source": [
    "\n",
    "df = pd.read_csv(\"linear.csv.csv\")"
   ]
  },
  {
   "cell_type": "code",
   "execution_count": null,
   "metadata": {},
   "outputs": [],
   "source": []
  },
  {
   "cell_type": "markdown",
   "metadata": {},
   "source": [
    "#### Let's explore the top 5 rows of the df\n"
   ]
  },
  {
   "cell_type": "code",
   "execution_count": 5,
   "metadata": {},
   "outputs": [
    {
     "data": {
      "text/html": [
       "<div>\n",
       "<style scoped>\n",
       "    .dataframe tbody tr th:only-of-type {\n",
       "        vertical-align: middle;\n",
       "    }\n",
       "\n",
       "    .dataframe tbody tr th {\n",
       "        vertical-align: top;\n",
       "    }\n",
       "\n",
       "    .dataframe thead th {\n",
       "        text-align: right;\n",
       "    }\n",
       "</style>\n",
       "<table border=\"1\" class=\"dataframe\">\n",
       "  <thead>\n",
       "    <tr style=\"text-align: right;\">\n",
       "      <th></th>\n",
       "      <th>Brand</th>\n",
       "      <th>Price</th>\n",
       "      <th>Body</th>\n",
       "      <th>Mileage</th>\n",
       "      <th>EngineV</th>\n",
       "      <th>Engine Type</th>\n",
       "      <th>Registration</th>\n",
       "      <th>Year</th>\n",
       "      <th>Model</th>\n",
       "    </tr>\n",
       "  </thead>\n",
       "  <tbody>\n",
       "    <tr>\n",
       "      <th>0</th>\n",
       "      <td>BMW</td>\n",
       "      <td>4200.0</td>\n",
       "      <td>sedan</td>\n",
       "      <td>277</td>\n",
       "      <td>2.0</td>\n",
       "      <td>Petrol</td>\n",
       "      <td>yes</td>\n",
       "      <td>1991</td>\n",
       "      <td>320</td>\n",
       "    </tr>\n",
       "    <tr>\n",
       "      <th>1</th>\n",
       "      <td>Mercedes-Benz</td>\n",
       "      <td>7900.0</td>\n",
       "      <td>van</td>\n",
       "      <td>427</td>\n",
       "      <td>2.9</td>\n",
       "      <td>Diesel</td>\n",
       "      <td>yes</td>\n",
       "      <td>1999</td>\n",
       "      <td>Sprinter 212</td>\n",
       "    </tr>\n",
       "    <tr>\n",
       "      <th>2</th>\n",
       "      <td>Mercedes-Benz</td>\n",
       "      <td>13300.0</td>\n",
       "      <td>sedan</td>\n",
       "      <td>358</td>\n",
       "      <td>5.0</td>\n",
       "      <td>Gas</td>\n",
       "      <td>yes</td>\n",
       "      <td>2003</td>\n",
       "      <td>S 500</td>\n",
       "    </tr>\n",
       "    <tr>\n",
       "      <th>3</th>\n",
       "      <td>Audi</td>\n",
       "      <td>23000.0</td>\n",
       "      <td>crossover</td>\n",
       "      <td>240</td>\n",
       "      <td>4.2</td>\n",
       "      <td>Petrol</td>\n",
       "      <td>yes</td>\n",
       "      <td>2007</td>\n",
       "      <td>Q7</td>\n",
       "    </tr>\n",
       "    <tr>\n",
       "      <th>4</th>\n",
       "      <td>Toyota</td>\n",
       "      <td>18300.0</td>\n",
       "      <td>crossover</td>\n",
       "      <td>120</td>\n",
       "      <td>2.0</td>\n",
       "      <td>Petrol</td>\n",
       "      <td>yes</td>\n",
       "      <td>2011</td>\n",
       "      <td>Rav 4</td>\n",
       "    </tr>\n",
       "  </tbody>\n",
       "</table>\n",
       "</div>"
      ],
      "text/plain": [
       "           Brand    Price       Body  Mileage  EngineV Engine Type  \\\n",
       "0            BMW   4200.0      sedan      277      2.0      Petrol   \n",
       "1  Mercedes-Benz   7900.0        van      427      2.9      Diesel   \n",
       "2  Mercedes-Benz  13300.0      sedan      358      5.0         Gas   \n",
       "3           Audi  23000.0  crossover      240      4.2      Petrol   \n",
       "4         Toyota  18300.0  crossover      120      2.0      Petrol   \n",
       "\n",
       "  Registration  Year         Model  \n",
       "0          yes  1991           320  \n",
       "1          yes  1999  Sprinter 212  \n",
       "2          yes  2003         S 500  \n",
       "3          yes  2007            Q7  \n",
       "4          yes  2011         Rav 4  "
      ]
     },
     "execution_count": 5,
     "metadata": {},
     "output_type": "execute_result"
    }
   ],
   "source": [
    "\n",
    "df.head()"
   ]
  },
  {
   "cell_type": "code",
   "execution_count": 6,
   "metadata": {},
   "outputs": [
    {
     "data": {
      "text/html": [
       "<div>\n",
       "<style scoped>\n",
       "    .dataframe tbody tr th:only-of-type {\n",
       "        vertical-align: middle;\n",
       "    }\n",
       "\n",
       "    .dataframe tbody tr th {\n",
       "        vertical-align: top;\n",
       "    }\n",
       "\n",
       "    .dataframe thead th {\n",
       "        text-align: right;\n",
       "    }\n",
       "</style>\n",
       "<table border=\"1\" class=\"dataframe\">\n",
       "  <thead>\n",
       "    <tr style=\"text-align: right;\">\n",
       "      <th></th>\n",
       "      <th>Brand</th>\n",
       "      <th>Price</th>\n",
       "      <th>Body</th>\n",
       "      <th>Mileage</th>\n",
       "      <th>EngineV</th>\n",
       "      <th>Engine_Type</th>\n",
       "      <th>Registration</th>\n",
       "      <th>Year</th>\n",
       "      <th>Model</th>\n",
       "    </tr>\n",
       "  </thead>\n",
       "  <tbody>\n",
       "    <tr>\n",
       "      <th>0</th>\n",
       "      <td>BMW</td>\n",
       "      <td>4200.0</td>\n",
       "      <td>sedan</td>\n",
       "      <td>277</td>\n",
       "      <td>2.0</td>\n",
       "      <td>Petrol</td>\n",
       "      <td>yes</td>\n",
       "      <td>1991</td>\n",
       "      <td>320</td>\n",
       "    </tr>\n",
       "    <tr>\n",
       "      <th>1</th>\n",
       "      <td>Mercedes-Benz</td>\n",
       "      <td>7900.0</td>\n",
       "      <td>van</td>\n",
       "      <td>427</td>\n",
       "      <td>2.9</td>\n",
       "      <td>Diesel</td>\n",
       "      <td>yes</td>\n",
       "      <td>1999</td>\n",
       "      <td>Sprinter 212</td>\n",
       "    </tr>\n",
       "    <tr>\n",
       "      <th>2</th>\n",
       "      <td>Mercedes-Benz</td>\n",
       "      <td>13300.0</td>\n",
       "      <td>sedan</td>\n",
       "      <td>358</td>\n",
       "      <td>5.0</td>\n",
       "      <td>Gas</td>\n",
       "      <td>yes</td>\n",
       "      <td>2003</td>\n",
       "      <td>S 500</td>\n",
       "    </tr>\n",
       "    <tr>\n",
       "      <th>3</th>\n",
       "      <td>Audi</td>\n",
       "      <td>23000.0</td>\n",
       "      <td>crossover</td>\n",
       "      <td>240</td>\n",
       "      <td>4.2</td>\n",
       "      <td>Petrol</td>\n",
       "      <td>yes</td>\n",
       "      <td>2007</td>\n",
       "      <td>Q7</td>\n",
       "    </tr>\n",
       "    <tr>\n",
       "      <th>4</th>\n",
       "      <td>Toyota</td>\n",
       "      <td>18300.0</td>\n",
       "      <td>crossover</td>\n",
       "      <td>120</td>\n",
       "      <td>2.0</td>\n",
       "      <td>Petrol</td>\n",
       "      <td>yes</td>\n",
       "      <td>2011</td>\n",
       "      <td>Rav 4</td>\n",
       "    </tr>\n",
       "    <tr>\n",
       "      <th>...</th>\n",
       "      <td>...</td>\n",
       "      <td>...</td>\n",
       "      <td>...</td>\n",
       "      <td>...</td>\n",
       "      <td>...</td>\n",
       "      <td>...</td>\n",
       "      <td>...</td>\n",
       "      <td>...</td>\n",
       "      <td>...</td>\n",
       "    </tr>\n",
       "    <tr>\n",
       "      <th>4340</th>\n",
       "      <td>Mercedes-Benz</td>\n",
       "      <td>125000.0</td>\n",
       "      <td>sedan</td>\n",
       "      <td>9</td>\n",
       "      <td>3.0</td>\n",
       "      <td>Diesel</td>\n",
       "      <td>yes</td>\n",
       "      <td>2014</td>\n",
       "      <td>S 350</td>\n",
       "    </tr>\n",
       "    <tr>\n",
       "      <th>4341</th>\n",
       "      <td>BMW</td>\n",
       "      <td>6500.0</td>\n",
       "      <td>sedan</td>\n",
       "      <td>1</td>\n",
       "      <td>3.5</td>\n",
       "      <td>Petrol</td>\n",
       "      <td>yes</td>\n",
       "      <td>1999</td>\n",
       "      <td>535</td>\n",
       "    </tr>\n",
       "    <tr>\n",
       "      <th>4342</th>\n",
       "      <td>BMW</td>\n",
       "      <td>8000.0</td>\n",
       "      <td>sedan</td>\n",
       "      <td>194</td>\n",
       "      <td>2.0</td>\n",
       "      <td>Petrol</td>\n",
       "      <td>yes</td>\n",
       "      <td>1985</td>\n",
       "      <td>520</td>\n",
       "    </tr>\n",
       "    <tr>\n",
       "      <th>4343</th>\n",
       "      <td>Toyota</td>\n",
       "      <td>14200.0</td>\n",
       "      <td>sedan</td>\n",
       "      <td>31</td>\n",
       "      <td>NaN</td>\n",
       "      <td>Petrol</td>\n",
       "      <td>yes</td>\n",
       "      <td>2014</td>\n",
       "      <td>Corolla</td>\n",
       "    </tr>\n",
       "    <tr>\n",
       "      <th>4344</th>\n",
       "      <td>Volkswagen</td>\n",
       "      <td>13500.0</td>\n",
       "      <td>van</td>\n",
       "      <td>124</td>\n",
       "      <td>2.0</td>\n",
       "      <td>Diesel</td>\n",
       "      <td>yes</td>\n",
       "      <td>2013</td>\n",
       "      <td>T5 (Transporter)</td>\n",
       "    </tr>\n",
       "  </tbody>\n",
       "</table>\n",
       "<p>4345 rows × 9 columns</p>\n",
       "</div>"
      ],
      "text/plain": [
       "              Brand     Price       Body  Mileage  EngineV Engine_Type  \\\n",
       "0               BMW    4200.0      sedan      277      2.0      Petrol   \n",
       "1     Mercedes-Benz    7900.0        van      427      2.9      Diesel   \n",
       "2     Mercedes-Benz   13300.0      sedan      358      5.0         Gas   \n",
       "3              Audi   23000.0  crossover      240      4.2      Petrol   \n",
       "4            Toyota   18300.0  crossover      120      2.0      Petrol   \n",
       "...             ...       ...        ...      ...      ...         ...   \n",
       "4340  Mercedes-Benz  125000.0      sedan        9      3.0      Diesel   \n",
       "4341            BMW    6500.0      sedan        1      3.5      Petrol   \n",
       "4342            BMW    8000.0      sedan      194      2.0      Petrol   \n",
       "4343         Toyota   14200.0      sedan       31      NaN      Petrol   \n",
       "4344     Volkswagen   13500.0        van      124      2.0      Diesel   \n",
       "\n",
       "     Registration  Year              Model  \n",
       "0             yes  1991                320  \n",
       "1             yes  1999       Sprinter 212  \n",
       "2             yes  2003              S 500  \n",
       "3             yes  2007                 Q7  \n",
       "4             yes  2011              Rav 4  \n",
       "...           ...   ...                ...  \n",
       "4340          yes  2014              S 350  \n",
       "4341          yes  1999                535  \n",
       "4342          yes  1985                520  \n",
       "4343          yes  2014            Corolla  \n",
       "4344          yes  2013  T5 (Transporter)   \n",
       "\n",
       "[4345 rows x 9 columns]"
      ]
     },
     "execution_count": 6,
     "metadata": {},
     "output_type": "execute_result"
    }
   ],
   "source": [
    "df.rename(columns = {\"Engine Type\":\"Engine_Type\"})"
   ]
  },
  {
   "cell_type": "markdown",
   "metadata": {},
   "source": [
    "## Preprocessing"
   ]
  },
  {
   "cell_type": "markdown",
   "metadata": {},
   "source": [
    "### 3. Exploring the descriptive statistics of the variables\n",
    "-  Descriptive statistics are very useful for initial exploration of the variables\n",
    "- By default, only descriptives for the numerical variables are shown\n",
    "- To include the categorical ones, you should specify this with an argument"
   ]
  },
  {
   "cell_type": "code",
   "execution_count": 7,
   "metadata": {},
   "outputs": [
    {
     "data": {
      "text/html": [
       "<div>\n",
       "<style scoped>\n",
       "    .dataframe tbody tr th:only-of-type {\n",
       "        vertical-align: middle;\n",
       "    }\n",
       "\n",
       "    .dataframe tbody tr th {\n",
       "        vertical-align: top;\n",
       "    }\n",
       "\n",
       "    .dataframe thead th {\n",
       "        text-align: right;\n",
       "    }\n",
       "</style>\n",
       "<table border=\"1\" class=\"dataframe\">\n",
       "  <thead>\n",
       "    <tr style=\"text-align: right;\">\n",
       "      <th></th>\n",
       "      <th>Price</th>\n",
       "      <th>Mileage</th>\n",
       "      <th>EngineV</th>\n",
       "      <th>Year</th>\n",
       "    </tr>\n",
       "  </thead>\n",
       "  <tbody>\n",
       "    <tr>\n",
       "      <th>count</th>\n",
       "      <td>4173.000000</td>\n",
       "      <td>4345.000000</td>\n",
       "      <td>4195.000000</td>\n",
       "      <td>4345.000000</td>\n",
       "    </tr>\n",
       "    <tr>\n",
       "      <th>mean</th>\n",
       "      <td>19418.746935</td>\n",
       "      <td>161.237284</td>\n",
       "      <td>2.790734</td>\n",
       "      <td>2006.550058</td>\n",
       "    </tr>\n",
       "    <tr>\n",
       "      <th>std</th>\n",
       "      <td>25584.242620</td>\n",
       "      <td>105.705797</td>\n",
       "      <td>5.066437</td>\n",
       "      <td>6.719097</td>\n",
       "    </tr>\n",
       "    <tr>\n",
       "      <th>min</th>\n",
       "      <td>600.000000</td>\n",
       "      <td>0.000000</td>\n",
       "      <td>0.600000</td>\n",
       "      <td>1969.000000</td>\n",
       "    </tr>\n",
       "    <tr>\n",
       "      <th>25%</th>\n",
       "      <td>6999.000000</td>\n",
       "      <td>86.000000</td>\n",
       "      <td>1.800000</td>\n",
       "      <td>2003.000000</td>\n",
       "    </tr>\n",
       "    <tr>\n",
       "      <th>50%</th>\n",
       "      <td>11500.000000</td>\n",
       "      <td>155.000000</td>\n",
       "      <td>2.200000</td>\n",
       "      <td>2008.000000</td>\n",
       "    </tr>\n",
       "    <tr>\n",
       "      <th>75%</th>\n",
       "      <td>21700.000000</td>\n",
       "      <td>230.000000</td>\n",
       "      <td>3.000000</td>\n",
       "      <td>2012.000000</td>\n",
       "    </tr>\n",
       "    <tr>\n",
       "      <th>max</th>\n",
       "      <td>300000.000000</td>\n",
       "      <td>980.000000</td>\n",
       "      <td>99.990000</td>\n",
       "      <td>2016.000000</td>\n",
       "    </tr>\n",
       "  </tbody>\n",
       "</table>\n",
       "</div>"
      ],
      "text/plain": [
       "               Price      Mileage      EngineV         Year\n",
       "count    4173.000000  4345.000000  4195.000000  4345.000000\n",
       "mean    19418.746935   161.237284     2.790734  2006.550058\n",
       "std     25584.242620   105.705797     5.066437     6.719097\n",
       "min       600.000000     0.000000     0.600000  1969.000000\n",
       "25%      6999.000000    86.000000     1.800000  2003.000000\n",
       "50%     11500.000000   155.000000     2.200000  2008.000000\n",
       "75%     21700.000000   230.000000     3.000000  2012.000000\n",
       "max    300000.000000   980.000000    99.990000  2016.000000"
      ]
     },
     "execution_count": 7,
     "metadata": {},
     "output_type": "execute_result"
    }
   ],
   "source": [
    "\n",
    "df.describe()"
   ]
  },
  {
   "cell_type": "code",
   "execution_count": 8,
   "metadata": {},
   "outputs": [
    {
     "data": {
      "text/html": [
       "<div>\n",
       "<style scoped>\n",
       "    .dataframe tbody tr th:only-of-type {\n",
       "        vertical-align: middle;\n",
       "    }\n",
       "\n",
       "    .dataframe tbody tr th {\n",
       "        vertical-align: top;\n",
       "    }\n",
       "\n",
       "    .dataframe thead th {\n",
       "        text-align: right;\n",
       "    }\n",
       "</style>\n",
       "<table border=\"1\" class=\"dataframe\">\n",
       "  <thead>\n",
       "    <tr style=\"text-align: right;\">\n",
       "      <th></th>\n",
       "      <th>Brand</th>\n",
       "      <th>Body</th>\n",
       "      <th>Engine Type</th>\n",
       "      <th>Registration</th>\n",
       "      <th>Model</th>\n",
       "    </tr>\n",
       "  </thead>\n",
       "  <tbody>\n",
       "    <tr>\n",
       "      <th>count</th>\n",
       "      <td>4345</td>\n",
       "      <td>4345</td>\n",
       "      <td>4345</td>\n",
       "      <td>4345</td>\n",
       "      <td>4345</td>\n",
       "    </tr>\n",
       "    <tr>\n",
       "      <th>unique</th>\n",
       "      <td>7</td>\n",
       "      <td>6</td>\n",
       "      <td>4</td>\n",
       "      <td>2</td>\n",
       "      <td>312</td>\n",
       "    </tr>\n",
       "    <tr>\n",
       "      <th>top</th>\n",
       "      <td>Volkswagen</td>\n",
       "      <td>sedan</td>\n",
       "      <td>Diesel</td>\n",
       "      <td>yes</td>\n",
       "      <td>E-Class</td>\n",
       "    </tr>\n",
       "    <tr>\n",
       "      <th>freq</th>\n",
       "      <td>936</td>\n",
       "      <td>1649</td>\n",
       "      <td>2019</td>\n",
       "      <td>3947</td>\n",
       "      <td>199</td>\n",
       "    </tr>\n",
       "  </tbody>\n",
       "</table>\n",
       "</div>"
      ],
      "text/plain": [
       "             Brand   Body Engine Type Registration    Model\n",
       "count         4345   4345        4345         4345     4345\n",
       "unique           7      6           4            2      312\n",
       "top     Volkswagen  sedan      Diesel          yes  E-Class\n",
       "freq           936   1649        2019         3947      199"
      ]
     },
     "execution_count": 8,
     "metadata": {},
     "output_type": "execute_result"
    }
   ],
   "source": [
    "df.describe(include = \"object\")"
   ]
  },
  {
   "cell_type": "code",
   "execution_count": null,
   "metadata": {},
   "outputs": [],
   "source": []
  },
  {
   "cell_type": "markdown",
   "metadata": {},
   "source": [
    "### Dealing with missing values"
   ]
  },
  {
   "cell_type": "markdown",
   "metadata": {},
   "source": [
    "#### 4. Find the missing values from the data if any\n",
    "- data.isnull() # shows a df with the information whether a data point is null. \n",
    "- Since True = the data point is missing, while False = the data point is not missing, we can sum them.\n",
    "- This will give us the total number of missing values feature-wise."
   ]
  },
  {
   "cell_type": "code",
   "execution_count": 9,
   "metadata": {
    "scrolled": true
   },
   "outputs": [
    {
     "data": {
      "text/plain": [
       "Brand             0\n",
       "Price           172\n",
       "Body              0\n",
       "Mileage           0\n",
       "EngineV         150\n",
       "Engine Type       0\n",
       "Registration      0\n",
       "Year              0\n",
       "Model             0\n",
       "dtype: int64"
      ]
     },
     "execution_count": 9,
     "metadata": {},
     "output_type": "execute_result"
    }
   ],
   "source": [
    "\n",
    "df.isnull().sum()"
   ]
  },
  {
   "cell_type": "markdown",
   "metadata": {},
   "source": [
    "#### 5. Let's simply drop all missing values\n",
    "Note: This is not always recommended, however, when we remove less than 5% of the data, it is okay"
   ]
  },
  {
   "cell_type": "code",
   "execution_count": 10,
   "metadata": {},
   "outputs": [],
   "source": [
    "\n",
    "df = df.dropna()"
   ]
  },
  {
   "cell_type": "code",
   "execution_count": 11,
   "metadata": {},
   "outputs": [
    {
     "data": {
      "text/plain": [
       "(4025, 9)"
      ]
     },
     "execution_count": 11,
     "metadata": {},
     "output_type": "execute_result"
    }
   ],
   "source": [
    "df.shape"
   ]
  },
  {
   "cell_type": "code",
   "execution_count": 12,
   "metadata": {
    "scrolled": true
   },
   "outputs": [
    {
     "data": {
      "text/plain": [
       "Brand           0\n",
       "Price           0\n",
       "Body            0\n",
       "Mileage         0\n",
       "EngineV         0\n",
       "Engine Type     0\n",
       "Registration    0\n",
       "Year            0\n",
       "Model           0\n",
       "dtype: int64"
      ]
     },
     "execution_count": 12,
     "metadata": {},
     "output_type": "execute_result"
    }
   ],
   "source": [
    "df.isnull().sum()"
   ]
  },
  {
   "cell_type": "markdown",
   "metadata": {},
   "source": [
    "#### 6. Let's check the descriptives without the missing values\n"
   ]
  },
  {
   "cell_type": "code",
   "execution_count": 13,
   "metadata": {},
   "outputs": [
    {
     "data": {
      "text/html": [
       "<div>\n",
       "<style scoped>\n",
       "    .dataframe tbody tr th:only-of-type {\n",
       "        vertical-align: middle;\n",
       "    }\n",
       "\n",
       "    .dataframe tbody tr th {\n",
       "        vertical-align: top;\n",
       "    }\n",
       "\n",
       "    .dataframe thead th {\n",
       "        text-align: right;\n",
       "    }\n",
       "</style>\n",
       "<table border=\"1\" class=\"dataframe\">\n",
       "  <thead>\n",
       "    <tr style=\"text-align: right;\">\n",
       "      <th></th>\n",
       "      <th>Brand</th>\n",
       "      <th>Body</th>\n",
       "      <th>Engine Type</th>\n",
       "      <th>Registration</th>\n",
       "      <th>Model</th>\n",
       "    </tr>\n",
       "  </thead>\n",
       "  <tbody>\n",
       "    <tr>\n",
       "      <th>count</th>\n",
       "      <td>4025</td>\n",
       "      <td>4025</td>\n",
       "      <td>4025</td>\n",
       "      <td>4025</td>\n",
       "      <td>4025</td>\n",
       "    </tr>\n",
       "    <tr>\n",
       "      <th>unique</th>\n",
       "      <td>7</td>\n",
       "      <td>6</td>\n",
       "      <td>4</td>\n",
       "      <td>2</td>\n",
       "      <td>306</td>\n",
       "    </tr>\n",
       "    <tr>\n",
       "      <th>top</th>\n",
       "      <td>Volkswagen</td>\n",
       "      <td>sedan</td>\n",
       "      <td>Diesel</td>\n",
       "      <td>yes</td>\n",
       "      <td>E-Class</td>\n",
       "    </tr>\n",
       "    <tr>\n",
       "      <th>freq</th>\n",
       "      <td>880</td>\n",
       "      <td>1534</td>\n",
       "      <td>1861</td>\n",
       "      <td>3654</td>\n",
       "      <td>188</td>\n",
       "    </tr>\n",
       "  </tbody>\n",
       "</table>\n",
       "</div>"
      ],
      "text/plain": [
       "             Brand   Body Engine Type Registration    Model\n",
       "count         4025   4025        4025         4025     4025\n",
       "unique           7      6           4            2      306\n",
       "top     Volkswagen  sedan      Diesel          yes  E-Class\n",
       "freq           880   1534        1861         3654      188"
      ]
     },
     "execution_count": 13,
     "metadata": {},
     "output_type": "execute_result"
    }
   ],
   "source": [
    "df.describe(include = \"object\")"
   ]
  },
  {
   "cell_type": "code",
   "execution_count": 14,
   "metadata": {},
   "outputs": [
    {
     "data": {
      "text/html": [
       "<div>\n",
       "<style scoped>\n",
       "    .dataframe tbody tr th:only-of-type {\n",
       "        vertical-align: middle;\n",
       "    }\n",
       "\n",
       "    .dataframe tbody tr th {\n",
       "        vertical-align: top;\n",
       "    }\n",
       "\n",
       "    .dataframe thead th {\n",
       "        text-align: right;\n",
       "    }\n",
       "</style>\n",
       "<table border=\"1\" class=\"dataframe\">\n",
       "  <thead>\n",
       "    <tr style=\"text-align: right;\">\n",
       "      <th></th>\n",
       "      <th>Price</th>\n",
       "      <th>Mileage</th>\n",
       "      <th>EngineV</th>\n",
       "      <th>Year</th>\n",
       "    </tr>\n",
       "  </thead>\n",
       "  <tbody>\n",
       "    <tr>\n",
       "      <th>count</th>\n",
       "      <td>4025.000000</td>\n",
       "      <td>4025.000000</td>\n",
       "      <td>4025.000000</td>\n",
       "      <td>4025.000000</td>\n",
       "    </tr>\n",
       "    <tr>\n",
       "      <th>mean</th>\n",
       "      <td>19552.308065</td>\n",
       "      <td>163.572174</td>\n",
       "      <td>2.764586</td>\n",
       "      <td>2006.379627</td>\n",
       "    </tr>\n",
       "    <tr>\n",
       "      <th>std</th>\n",
       "      <td>25815.734988</td>\n",
       "      <td>103.394703</td>\n",
       "      <td>4.935941</td>\n",
       "      <td>6.695595</td>\n",
       "    </tr>\n",
       "    <tr>\n",
       "      <th>min</th>\n",
       "      <td>600.000000</td>\n",
       "      <td>0.000000</td>\n",
       "      <td>0.600000</td>\n",
       "      <td>1969.000000</td>\n",
       "    </tr>\n",
       "    <tr>\n",
       "      <th>25%</th>\n",
       "      <td>6999.000000</td>\n",
       "      <td>90.000000</td>\n",
       "      <td>1.800000</td>\n",
       "      <td>2003.000000</td>\n",
       "    </tr>\n",
       "    <tr>\n",
       "      <th>50%</th>\n",
       "      <td>11500.000000</td>\n",
       "      <td>158.000000</td>\n",
       "      <td>2.200000</td>\n",
       "      <td>2007.000000</td>\n",
       "    </tr>\n",
       "    <tr>\n",
       "      <th>75%</th>\n",
       "      <td>21900.000000</td>\n",
       "      <td>230.000000</td>\n",
       "      <td>3.000000</td>\n",
       "      <td>2012.000000</td>\n",
       "    </tr>\n",
       "    <tr>\n",
       "      <th>max</th>\n",
       "      <td>300000.000000</td>\n",
       "      <td>980.000000</td>\n",
       "      <td>99.990000</td>\n",
       "      <td>2016.000000</td>\n",
       "    </tr>\n",
       "  </tbody>\n",
       "</table>\n",
       "</div>"
      ],
      "text/plain": [
       "               Price      Mileage      EngineV         Year\n",
       "count    4025.000000  4025.000000  4025.000000  4025.000000\n",
       "mean    19552.308065   163.572174     2.764586  2006.379627\n",
       "std     25815.734988   103.394703     4.935941     6.695595\n",
       "min       600.000000     0.000000     0.600000  1969.000000\n",
       "25%      6999.000000    90.000000     1.800000  2003.000000\n",
       "50%     11500.000000   158.000000     2.200000  2007.000000\n",
       "75%     21900.000000   230.000000     3.000000  2012.000000\n",
       "max    300000.000000   980.000000    99.990000  2016.000000"
      ]
     },
     "execution_count": 14,
     "metadata": {},
     "output_type": "execute_result"
    }
   ],
   "source": [
    "\n",
    "df.describe()"
   ]
  },
  {
   "cell_type": "markdown",
   "metadata": {},
   "source": [
    "### Exploring the PDFs for Numerical Variables in the DataFrame"
   ]
  },
  {
   "cell_type": "markdown",
   "metadata": {},
   "source": [
    "#### 7. A great step in the data exploration is to display the probability distribution function (PDF) of a variable\n",
    "- The PDF will show us how that variable is distributed \n",
    "- This makes it very easy to spot anomalies, such as outliers\n",
    "- The PDF is often the basis on which we decide whether we want to transform a feature"
   ]
  },
  {
   "cell_type": "code",
   "execution_count": 15,
   "metadata": {
    "scrolled": false
   },
   "outputs": [
    {
     "data": {
      "image/png": "[encoded data removed]",
      "text/plain": [
       "<Figure size 576x432 with 1 Axes>"
      ]
     },
     "metadata": {
      "needs_background": "light"
     },
     "output_type": "display_data"
    },
    {
     "data": {
      "image/png": "[encoded data removed]",
      "text/plain": [
       "<Figure size 576x432 with 1 Axes>"
      ]
     },
     "metadata": {
      "needs_background": "light"
     },
     "output_type": "display_data"
    },
    {
     "data": {
      "image/png": "[encoded data removed]",
      "text/plain": [
       "<Figure size 576x432 with 1 Axes>"
      ]
     },
     "metadata": {
      "needs_background": "light"
     },
     "output_type": "display_data"
    },
    {
     "data": {
      "image/png": "[encoded data removed]",
      "text/plain": [
       "<Figure size 576x432 with 1 Axes>"
      ]
     },
     "metadata": {
      "needs_background": "light"
     },
     "output_type": "display_data"
    }
   ],
   "source": [
    "\n",
    "col = [\"Price\",\"Mileage\",\"EngineV\",\"Year\"]\n",
    "for i in col:\n",
    "    plt.figure(figsize = (8,6))\n",
    "    sns.distplot(df[i])\n",
    "    plt.show()"
   ]
  },
  {
   "cell_type": "markdown",
   "metadata": {},
   "source": [
    "### Dealing with outliers\n",
    "Hint: Use IQR or Z Score"
   ]
  },
  {
   "cell_type": "markdown",
   "metadata": {},
   "source": [
    "#### 8A. Identify the Outliers which are presented in `Price` Column"
   ]
  },
  {
   "cell_type": "code",
   "execution_count": 16,
   "metadata": {},
   "outputs": [
    {
     "name": "stdout",
     "output_type": "stream",
     "text": [
      "-15352.5 44251.5\n"
     ]
    }
   ],
   "source": [
    "\n",
    "Q1 = df.Price.quantile(0.25)\n",
    "Q3 = df.Price.quantile(0.75)\n",
    "Q1,Q3\n",
    "IQR = Q3-Q1\n",
    "lower_limit = Q1 - 1.5*IQR\n",
    "upper_limit = Q3 + 1.5*IQR\n",
    "print(lower_limit,upper_limit)"
   ]
  },
  {
   "cell_type": "markdown",
   "metadata": {},
   "source": [
    "#### 8B. Remove the Outliers which are presented in `Price` Column"
   ]
  },
  {
   "cell_type": "code",
   "execution_count": 17,
   "metadata": {},
   "outputs": [
    {
     "data": {
      "text/plain": [
       "355"
      ]
     },
     "execution_count": 17,
     "metadata": {},
     "output_type": "execute_result"
    }
   ],
   "source": [
    "\n",
    "df1 = df[df.Price <= upper_limit]\n",
    "df.shape[0]-df1.shape[0]"
   ]
  },
  {
   "cell_type": "markdown",
   "metadata": {},
   "source": [
    "#### 8C. Again Check the Distribution for `Price` Column and say something about distribution plot"
   ]
  },
  {
   "cell_type": "code",
   "execution_count": 136,
   "metadata": {},
   "outputs": [
    {
     "data": {
      "text/plain": [
       "13338.79520708447"
      ]
     },
     "execution_count": 136,
     "metadata": {},
     "output_type": "execute_result"
    },
    {
     "data": {
      "image/png": "[encoded data removed]",
      "text/plain": [
       "<Figure size 432x288 with 1 Axes>"
      ]
     },
     "metadata": {
      "needs_background": "light"
     },
     "output_type": "display_data"
    }
   ],
   "source": [
    "\n",
    "sns.distplot(df1.Price)"
   ]
  },
  {
   "cell_type": "markdown",
   "metadata": {},
   "source": [
    "### After removing outliers price column is normally distributed"
   ]
  },
  {
   "cell_type": "markdown",
   "metadata": {},
   "source": [
    "#### 9A. Same identify and remove the outliers in `Milage` column"
   ]
  },
  {
   "cell_type": "code",
   "execution_count": 19,
   "metadata": {},
   "outputs": [
    {
     "name": "stdout",
     "output_type": "stream",
     "text": [
      "-87.0 433.0\n"
     ]
    },
    {
     "data": {
      "text/plain": [
       "39"
      ]
     },
     "execution_count": 19,
     "metadata": {},
     "output_type": "execute_result"
    }
   ],
   "source": [
    "\n",
    "Q1 = df1.Mileage.quantile(0.25)\n",
    "Q3 = df1.Mileage.quantile(0.75)\n",
    "Q1,Q3\n",
    "IQR = Q3-Q1\n",
    "lower_limit = Q1 - 1.5*IQR\n",
    "upper_limit = Q3 + 1.5*IQR\n",
    "print(lower_limit,upper_limit)\n",
    "df2 = df1[df.Mileage <= upper_limit]\n",
    "df1.shape[0]-df2.shape[0]"
   ]
  },
  {
   "cell_type": "markdown",
   "metadata": {},
   "source": [
    "#### 9B. Check the distribution after deleting the outliers in `milage` column and say something about distribution."
   ]
  },
  {
   "cell_type": "code",
   "execution_count": 20,
   "metadata": {},
   "outputs": [
    {
     "data": {
      "text/plain": [
       "<AxesSubplot:xlabel='Mileage', ylabel='Density'>"
      ]
     },
     "execution_count": 20,
     "metadata": {},
     "output_type": "execute_result"
    },
    {
     "data": {
      "image/png": "[encoded data removed]",
      "text/plain": [
       "<Figure size 432x288 with 1 Axes>"
      ]
     },
     "metadata": {
      "needs_background": "light"
     },
     "output_type": "display_data"
    }
   ],
   "source": [
    "\n",
    "sns.distplot(df2.Mileage)"
   ]
  },
  {
   "cell_type": "markdown",
   "metadata": {},
   "source": [
    "### After removing outliers mileage column is normally distributed \n"
   ]
  },
  {
   "cell_type": "markdown",
   "metadata": {},
   "source": [
    "#### 10A. Identify and remove the outliers from `EngineV` column\n",
    "\n"
   ]
  },
  {
   "cell_type": "code",
   "execution_count": 21,
   "metadata": {},
   "outputs": [
    {
     "data": {
      "text/plain": [
       "212"
      ]
     },
     "execution_count": 21,
     "metadata": {},
     "output_type": "execute_result"
    }
   ],
   "source": [
    "\n",
    "Q1 = df1.EngineV.quantile(0.25)\n",
    "Q3 = df1.EngineV.quantile(0.75)\n",
    "Q1,Q3\n",
    "IQR = Q3-Q1\n",
    "lower_limit = Q1 - 1.5*IQR\n",
    "upper_limit = Q3 + 1.5*IQR\n",
    "df3 = df2[df.EngineV <= upper_limit]\n",
    "df2.shape[0]-df3.shape[0]"
   ]
  },
  {
   "cell_type": "code",
   "execution_count": 22,
   "metadata": {},
   "outputs": [
    {
     "data": {
      "text/plain": [
       "(3419, 9)"
      ]
     },
     "execution_count": 22,
     "metadata": {},
     "output_type": "execute_result"
    }
   ],
   "source": [
    "\n",
    "df3.shape"
   ]
  },
  {
   "cell_type": "markdown",
   "metadata": {},
   "source": [
    "#### 10B. Ckeck the distribution plot after deleting the outliers and say something about it."
   ]
  },
  {
   "cell_type": "code",
   "execution_count": 23,
   "metadata": {},
   "outputs": [
    {
     "data": {
      "text/plain": [
       "<AxesSubplot:xlabel='EngineV', ylabel='Density'>"
      ]
     },
     "execution_count": 23,
     "metadata": {},
     "output_type": "execute_result"
    },
    {
     "data": {
      "image/png": "[encoded data removed]",
      "text/plain": [
       "<Figure size 432x288 with 1 Axes>"
      ]
     },
     "metadata": {
      "needs_background": "light"
     },
     "output_type": "display_data"
    }
   ],
   "source": [
    "\n",
    "sns.distplot(df3.EngineV,bins = 20)"
   ]
  },
  {
   "cell_type": "markdown",
   "metadata": {},
   "source": [
    "### After removing outliers EngineV column is normally distributed \n"
   ]
  },
  {
   "cell_type": "code",
   "execution_count": 24,
   "metadata": {},
   "outputs": [],
   "source": [
    "df3.drop(\"Model\",axis = 1,inplace = True)"
   ]
  },
  {
   "cell_type": "markdown",
   "metadata": {},
   "source": [
    "#### 10C. Perform Lable & One-Hot Encoding For the Categorical Variable"
   ]
  },
  {
   "cell_type": "code",
   "execution_count": 25,
   "metadata": {},
   "outputs": [],
   "source": [
    "\n",
    "cat_col = df3.loc[:,df3.dtypes==np.object]\n",
    "num_col = df3.loc[:,~(df3.dtypes==np.object)]"
   ]
  },
  {
   "cell_type": "code",
   "execution_count": 26,
   "metadata": {},
   "outputs": [
    {
     "data": {
      "text/html": [
       "<div>\n",
       "<style scoped>\n",
       "    .dataframe tbody tr th:only-of-type {\n",
       "        vertical-align: middle;\n",
       "    }\n",
       "\n",
       "    .dataframe tbody tr th {\n",
       "        vertical-align: top;\n",
       "    }\n",
       "\n",
       "    .dataframe thead th {\n",
       "        text-align: right;\n",
       "    }\n",
       "</style>\n",
       "<table border=\"1\" class=\"dataframe\">\n",
       "  <thead>\n",
       "    <tr style=\"text-align: right;\">\n",
       "      <th></th>\n",
       "      <th>Brand</th>\n",
       "      <th>Body</th>\n",
       "      <th>Engine Type</th>\n",
       "      <th>Registration</th>\n",
       "    </tr>\n",
       "  </thead>\n",
       "  <tbody>\n",
       "    <tr>\n",
       "      <th>0</th>\n",
       "      <td>BMW</td>\n",
       "      <td>sedan</td>\n",
       "      <td>Petrol</td>\n",
       "      <td>yes</td>\n",
       "    </tr>\n",
       "    <tr>\n",
       "      <th>1</th>\n",
       "      <td>Mercedes-Benz</td>\n",
       "      <td>van</td>\n",
       "      <td>Diesel</td>\n",
       "      <td>yes</td>\n",
       "    </tr>\n",
       "    <tr>\n",
       "      <th>3</th>\n",
       "      <td>Audi</td>\n",
       "      <td>crossover</td>\n",
       "      <td>Petrol</td>\n",
       "      <td>yes</td>\n",
       "    </tr>\n",
       "    <tr>\n",
       "      <th>4</th>\n",
       "      <td>Toyota</td>\n",
       "      <td>crossover</td>\n",
       "      <td>Petrol</td>\n",
       "      <td>yes</td>\n",
       "    </tr>\n",
       "    <tr>\n",
       "      <th>7</th>\n",
       "      <td>Audi</td>\n",
       "      <td>vagon</td>\n",
       "      <td>Diesel</td>\n",
       "      <td>yes</td>\n",
       "    </tr>\n",
       "    <tr>\n",
       "      <th>...</th>\n",
       "      <td>...</td>\n",
       "      <td>...</td>\n",
       "      <td>...</td>\n",
       "      <td>...</td>\n",
       "    </tr>\n",
       "    <tr>\n",
       "      <th>4338</th>\n",
       "      <td>Volkswagen</td>\n",
       "      <td>van</td>\n",
       "      <td>Diesel</td>\n",
       "      <td>yes</td>\n",
       "    </tr>\n",
       "    <tr>\n",
       "      <th>4339</th>\n",
       "      <td>Toyota</td>\n",
       "      <td>sedan</td>\n",
       "      <td>Petrol</td>\n",
       "      <td>yes</td>\n",
       "    </tr>\n",
       "    <tr>\n",
       "      <th>4341</th>\n",
       "      <td>BMW</td>\n",
       "      <td>sedan</td>\n",
       "      <td>Petrol</td>\n",
       "      <td>yes</td>\n",
       "    </tr>\n",
       "    <tr>\n",
       "      <th>4342</th>\n",
       "      <td>BMW</td>\n",
       "      <td>sedan</td>\n",
       "      <td>Petrol</td>\n",
       "      <td>yes</td>\n",
       "    </tr>\n",
       "    <tr>\n",
       "      <th>4344</th>\n",
       "      <td>Volkswagen</td>\n",
       "      <td>van</td>\n",
       "      <td>Diesel</td>\n",
       "      <td>yes</td>\n",
       "    </tr>\n",
       "  </tbody>\n",
       "</table>\n",
       "<p>3419 rows × 4 columns</p>\n",
       "</div>"
      ],
      "text/plain": [
       "              Brand       Body Engine Type Registration\n",
       "0               BMW      sedan      Petrol          yes\n",
       "1     Mercedes-Benz        van      Diesel          yes\n",
       "3              Audi  crossover      Petrol          yes\n",
       "4            Toyota  crossover      Petrol          yes\n",
       "7              Audi      vagon      Diesel          yes\n",
       "...             ...        ...         ...          ...\n",
       "4338     Volkswagen        van      Diesel          yes\n",
       "4339         Toyota      sedan      Petrol          yes\n",
       "4341            BMW      sedan      Petrol          yes\n",
       "4342            BMW      sedan      Petrol          yes\n",
       "4344     Volkswagen        van      Diesel          yes\n",
       "\n",
       "[3419 rows x 4 columns]"
      ]
     },
     "execution_count": 26,
     "metadata": {},
     "output_type": "execute_result"
    }
   ],
   "source": [
    "cat_col "
   ]
  },
  {
   "cell_type": "code",
   "execution_count": 57,
   "metadata": {},
   "outputs": [],
   "source": [
    "df4 = pd.get_dummies(cat_col)"
   ]
  },
  {
   "cell_type": "code",
   "execution_count": 58,
   "metadata": {},
   "outputs": [],
   "source": [
    "\n",
    "df5 = pd.concat([num_col, df4], axis=1)"
   ]
  },
  {
   "cell_type": "code",
   "execution_count": 59,
   "metadata": {},
   "outputs": [
    {
     "data": {
      "text/plain": [
       "(3419, 23)"
      ]
     },
     "execution_count": 59,
     "metadata": {},
     "output_type": "execute_result"
    }
   ],
   "source": [
    "df5.shape"
   ]
  },
  {
   "cell_type": "markdown",
   "metadata": {},
   "source": [
    "### Multicollinearity"
   ]
  },
  {
   "cell_type": "markdown",
   "metadata": {},
   "source": [
    "#### 11A. Say about Multicollinearity and Find the Multicollinearity variables in the Dataset. \n"
   ]
  },
  {
   "cell_type": "code",
   "execution_count": 60,
   "metadata": {},
   "outputs": [
    {
     "data": {
      "text/html": [
       "<div>\n",
       "<style scoped>\n",
       "    .dataframe tbody tr th:only-of-type {\n",
       "        vertical-align: middle;\n",
       "    }\n",
       "\n",
       "    .dataframe tbody tr th {\n",
       "        vertical-align: top;\n",
       "    }\n",
       "\n",
       "    .dataframe thead th {\n",
       "        text-align: right;\n",
       "    }\n",
       "</style>\n",
       "<table border=\"1\" class=\"dataframe\">\n",
       "  <thead>\n",
       "    <tr style=\"text-align: right;\">\n",
       "      <th></th>\n",
       "      <th>Mileage</th>\n",
       "      <th>EngineV</th>\n",
       "      <th>Year</th>\n",
       "      <th>Brand_BMW</th>\n",
       "      <th>Brand_Mercedes-Benz</th>\n",
       "      <th>Brand_Mitsubishi</th>\n",
       "      <th>Brand_Renault</th>\n",
       "      <th>Brand_Toyota</th>\n",
       "      <th>Brand_Volkswagen</th>\n",
       "      <th>Body_hatch</th>\n",
       "      <th>Body_other</th>\n",
       "      <th>Body_sedan</th>\n",
       "      <th>Body_vagon</th>\n",
       "      <th>Body_van</th>\n",
       "      <th>Engine Type_Gas</th>\n",
       "      <th>Engine Type_Other</th>\n",
       "      <th>Engine Type_Petrol</th>\n",
       "      <th>Registration_yes</th>\n",
       "    </tr>\n",
       "  </thead>\n",
       "  <tbody>\n",
       "    <tr>\n",
       "      <th>Mileage</th>\n",
       "      <td>1.000000</td>\n",
       "      <td>0.152230</td>\n",
       "      <td>-0.621586</td>\n",
       "      <td>0.119609</td>\n",
       "      <td>0.192166</td>\n",
       "      <td>-0.104992</td>\n",
       "      <td>-0.070080</td>\n",
       "      <td>-0.208443</td>\n",
       "      <td>-0.032237</td>\n",
       "      <td>-0.115075</td>\n",
       "      <td>-0.006270</td>\n",
       "      <td>0.062877</td>\n",
       "      <td>0.079636</td>\n",
       "      <td>0.121432</td>\n",
       "      <td>0.059478</td>\n",
       "      <td>-0.005059</td>\n",
       "      <td>-0.245465</td>\n",
       "      <td>-0.241823</td>\n",
       "    </tr>\n",
       "    <tr>\n",
       "      <th>EngineV</th>\n",
       "      <td>0.152230</td>\n",
       "      <td>1.000000</td>\n",
       "      <td>-0.109634</td>\n",
       "      <td>0.183581</td>\n",
       "      <td>0.161249</td>\n",
       "      <td>0.004681</td>\n",
       "      <td>-0.332464</td>\n",
       "      <td>0.147053</td>\n",
       "      <td>-0.247092</td>\n",
       "      <td>-0.290982</td>\n",
       "      <td>0.015949</td>\n",
       "      <td>0.032931</td>\n",
       "      <td>-0.111404</td>\n",
       "      <td>-0.163453</td>\n",
       "      <td>0.153008</td>\n",
       "      <td>-0.055447</td>\n",
       "      <td>-0.099893</td>\n",
       "      <td>-0.046303</td>\n",
       "    </tr>\n",
       "    <tr>\n",
       "      <th>Year</th>\n",
       "      <td>-0.621586</td>\n",
       "      <td>-0.109634</td>\n",
       "      <td>1.000000</td>\n",
       "      <td>-0.161648</td>\n",
       "      <td>-0.115794</td>\n",
       "      <td>0.028604</td>\n",
       "      <td>0.146790</td>\n",
       "      <td>0.127380</td>\n",
       "      <td>0.065444</td>\n",
       "      <td>-0.030424</td>\n",
       "      <td>0.014918</td>\n",
       "      <td>-0.189722</td>\n",
       "      <td>-0.023614</td>\n",
       "      <td>0.102250</td>\n",
       "      <td>-0.133128</td>\n",
       "      <td>0.000685</td>\n",
       "      <td>-0.009001</td>\n",
       "      <td>0.238013</td>\n",
       "    </tr>\n",
       "    <tr>\n",
       "      <th>Brand_BMW</th>\n",
       "      <td>0.119609</td>\n",
       "      <td>0.183581</td>\n",
       "      <td>-0.161648</td>\n",
       "      <td>1.000000</td>\n",
       "      <td>-0.177091</td>\n",
       "      <td>-0.123945</td>\n",
       "      <td>-0.151683</td>\n",
       "      <td>-0.152480</td>\n",
       "      <td>-0.225001</td>\n",
       "      <td>-0.088355</td>\n",
       "      <td>-0.012223</td>\n",
       "      <td>0.205278</td>\n",
       "      <td>-0.029027</td>\n",
       "      <td>-0.180632</td>\n",
       "      <td>-0.051779</td>\n",
       "      <td>-0.038588</td>\n",
       "      <td>0.108098</td>\n",
       "      <td>-0.140754</td>\n",
       "    </tr>\n",
       "    <tr>\n",
       "      <th>Brand_Mercedes-Benz</th>\n",
       "      <td>0.192166</td>\n",
       "      <td>0.161249</td>\n",
       "      <td>-0.115794</td>\n",
       "      <td>-0.177091</td>\n",
       "      <td>1.000000</td>\n",
       "      <td>-0.139439</td>\n",
       "      <td>-0.170644</td>\n",
       "      <td>-0.171540</td>\n",
       "      <td>-0.253127</td>\n",
       "      <td>-0.078009</td>\n",
       "      <td>0.091117</td>\n",
       "      <td>0.048364</td>\n",
       "      <td>-0.108011</td>\n",
       "      <td>0.098943</td>\n",
       "      <td>-0.032340</td>\n",
       "      <td>0.005145</td>\n",
       "      <td>-0.131251</td>\n",
       "      <td>-0.012056</td>\n",
       "    </tr>\n",
       "    <tr>\n",
       "      <th>Brand_Mitsubishi</th>\n",
       "      <td>-0.104992</td>\n",
       "      <td>0.004681</td>\n",
       "      <td>0.028604</td>\n",
       "      <td>-0.123945</td>\n",
       "      <td>-0.139439</td>\n",
       "      <td>1.000000</td>\n",
       "      <td>-0.119433</td>\n",
       "      <td>-0.120060</td>\n",
       "      <td>-0.177162</td>\n",
       "      <td>-0.020150</td>\n",
       "      <td>-0.020663</td>\n",
       "      <td>-0.000681</td>\n",
       "      <td>-0.082754</td>\n",
       "      <td>-0.125876</td>\n",
       "      <td>0.181757</td>\n",
       "      <td>-0.019271</td>\n",
       "      <td>0.074160</td>\n",
       "      <td>0.073065</td>\n",
       "    </tr>\n",
       "    <tr>\n",
       "      <th>Brand_Renault</th>\n",
       "      <td>-0.070080</td>\n",
       "      <td>-0.332464</td>\n",
       "      <td>0.146790</td>\n",
       "      <td>-0.151683</td>\n",
       "      <td>-0.170644</td>\n",
       "      <td>-0.119433</td>\n",
       "      <td>1.000000</td>\n",
       "      <td>-0.146929</td>\n",
       "      <td>-0.216810</td>\n",
       "      <td>0.015575</td>\n",
       "      <td>-0.031227</td>\n",
       "      <td>-0.204953</td>\n",
       "      <td>0.159273</td>\n",
       "      <td>0.260760</td>\n",
       "      <td>-0.105375</td>\n",
       "      <td>0.013819</td>\n",
       "      <td>-0.154384</td>\n",
       "      <td>0.061723</td>\n",
       "    </tr>\n",
       "    <tr>\n",
       "      <th>Brand_Toyota</th>\n",
       "      <td>-0.208443</td>\n",
       "      <td>0.147053</td>\n",
       "      <td>0.127380</td>\n",
       "      <td>-0.152480</td>\n",
       "      <td>-0.171540</td>\n",
       "      <td>-0.120060</td>\n",
       "      <td>-0.146929</td>\n",
       "      <td>1.000000</td>\n",
       "      <td>-0.217949</td>\n",
       "      <td>0.073719</td>\n",
       "      <td>-0.035216</td>\n",
       "      <td>0.027358</td>\n",
       "      <td>-0.100625</td>\n",
       "      <td>-0.158757</td>\n",
       "      <td>0.176123</td>\n",
       "      <td>0.024102</td>\n",
       "      <td>0.146907</td>\n",
       "      <td>0.119802</td>\n",
       "    </tr>\n",
       "    <tr>\n",
       "      <th>Brand_Volkswagen</th>\n",
       "      <td>-0.032237</td>\n",
       "      <td>-0.247092</td>\n",
       "      <td>0.065444</td>\n",
       "      <td>-0.225001</td>\n",
       "      <td>-0.253127</td>\n",
       "      <td>-0.177162</td>\n",
       "      <td>-0.216810</td>\n",
       "      <td>-0.217949</td>\n",
       "      <td>1.000000</td>\n",
       "      <td>0.111627</td>\n",
       "      <td>0.018389</td>\n",
       "      <td>-0.115257</td>\n",
       "      <td>-0.005526</td>\n",
       "      <td>0.177415</td>\n",
       "      <td>-0.086191</td>\n",
       "      <td>-0.008094</td>\n",
       "      <td>-0.034510</td>\n",
       "      <td>0.044300</td>\n",
       "    </tr>\n",
       "    <tr>\n",
       "      <th>Body_hatch</th>\n",
       "      <td>-0.115075</td>\n",
       "      <td>-0.290982</td>\n",
       "      <td>-0.030424</td>\n",
       "      <td>-0.088355</td>\n",
       "      <td>-0.078009</td>\n",
       "      <td>-0.020150</td>\n",
       "      <td>0.015575</td>\n",
       "      <td>0.073719</td>\n",
       "      <td>0.111627</td>\n",
       "      <td>1.000000</td>\n",
       "      <td>-0.093174</td>\n",
       "      <td>-0.231085</td>\n",
       "      <td>-0.100450</td>\n",
       "      <td>-0.130884</td>\n",
       "      <td>-0.025532</td>\n",
       "      <td>0.049052</td>\n",
       "      <td>0.158295</td>\n",
       "      <td>0.004512</td>\n",
       "    </tr>\n",
       "    <tr>\n",
       "      <th>Body_other</th>\n",
       "      <td>-0.006270</td>\n",
       "      <td>0.015949</td>\n",
       "      <td>0.014918</td>\n",
       "      <td>-0.012223</td>\n",
       "      <td>0.091117</td>\n",
       "      <td>-0.020663</td>\n",
       "      <td>-0.031227</td>\n",
       "      <td>-0.035216</td>\n",
       "      <td>0.018389</td>\n",
       "      <td>-0.093174</td>\n",
       "      <td>1.000000</td>\n",
       "      <td>-0.260519</td>\n",
       "      <td>-0.113244</td>\n",
       "      <td>-0.147555</td>\n",
       "      <td>-0.064210</td>\n",
       "      <td>0.033916</td>\n",
       "      <td>0.016846</td>\n",
       "      <td>0.035661</td>\n",
       "    </tr>\n",
       "    <tr>\n",
       "      <th>Body_sedan</th>\n",
       "      <td>0.062877</td>\n",
       "      <td>0.032931</td>\n",
       "      <td>-0.189722</td>\n",
       "      <td>0.205278</td>\n",
       "      <td>0.048364</td>\n",
       "      <td>-0.000681</td>\n",
       "      <td>-0.204953</td>\n",
       "      <td>0.027358</td>\n",
       "      <td>-0.115257</td>\n",
       "      <td>-0.231085</td>\n",
       "      <td>-0.260519</td>\n",
       "      <td>1.000000</td>\n",
       "      <td>-0.280862</td>\n",
       "      <td>-0.365957</td>\n",
       "      <td>0.111567</td>\n",
       "      <td>0.006263</td>\n",
       "      <td>0.243618</td>\n",
       "      <td>-0.050678</td>\n",
       "    </tr>\n",
       "    <tr>\n",
       "      <th>Body_vagon</th>\n",
       "      <td>0.079636</td>\n",
       "      <td>-0.111404</td>\n",
       "      <td>-0.023614</td>\n",
       "      <td>-0.029027</td>\n",
       "      <td>-0.108011</td>\n",
       "      <td>-0.082754</td>\n",
       "      <td>0.159273</td>\n",
       "      <td>-0.100625</td>\n",
       "      <td>-0.005526</td>\n",
       "      <td>-0.100450</td>\n",
       "      <td>-0.113244</td>\n",
       "      <td>-0.280862</td>\n",
       "      <td>1.000000</td>\n",
       "      <td>-0.159077</td>\n",
       "      <td>-0.063781</td>\n",
       "      <td>0.007085</td>\n",
       "      <td>-0.136628</td>\n",
       "      <td>-0.172488</td>\n",
       "    </tr>\n",
       "    <tr>\n",
       "      <th>Body_van</th>\n",
       "      <td>0.121432</td>\n",
       "      <td>-0.163453</td>\n",
       "      <td>0.102250</td>\n",
       "      <td>-0.180632</td>\n",
       "      <td>0.098943</td>\n",
       "      <td>-0.125876</td>\n",
       "      <td>0.260760</td>\n",
       "      <td>-0.158757</td>\n",
       "      <td>0.177415</td>\n",
       "      <td>-0.130884</td>\n",
       "      <td>-0.147555</td>\n",
       "      <td>-0.365957</td>\n",
       "      <td>-0.159077</td>\n",
       "      <td>1.000000</td>\n",
       "      <td>-0.149745</td>\n",
       "      <td>-0.016723</td>\n",
       "      <td>-0.301046</td>\n",
       "      <td>0.099657</td>\n",
       "    </tr>\n",
       "    <tr>\n",
       "      <th>Engine Type_Gas</th>\n",
       "      <td>0.059478</td>\n",
       "      <td>0.153008</td>\n",
       "      <td>-0.133128</td>\n",
       "      <td>-0.051779</td>\n",
       "      <td>-0.032340</td>\n",
       "      <td>0.181757</td>\n",
       "      <td>-0.105375</td>\n",
       "      <td>0.176123</td>\n",
       "      <td>-0.086191</td>\n",
       "      <td>-0.025532</td>\n",
       "      <td>-0.064210</td>\n",
       "      <td>0.111567</td>\n",
       "      <td>-0.063781</td>\n",
       "      <td>-0.149745</td>\n",
       "      <td>1.000000</td>\n",
       "      <td>-0.070347</td>\n",
       "      <td>-0.316443</td>\n",
       "      <td>0.085257</td>\n",
       "    </tr>\n",
       "    <tr>\n",
       "      <th>Engine Type_Other</th>\n",
       "      <td>-0.005059</td>\n",
       "      <td>-0.055447</td>\n",
       "      <td>0.000685</td>\n",
       "      <td>-0.038588</td>\n",
       "      <td>0.005145</td>\n",
       "      <td>-0.019271</td>\n",
       "      <td>0.013819</td>\n",
       "      <td>0.024102</td>\n",
       "      <td>-0.008094</td>\n",
       "      <td>0.049052</td>\n",
       "      <td>0.033916</td>\n",
       "      <td>0.006263</td>\n",
       "      <td>0.007085</td>\n",
       "      <td>-0.016723</td>\n",
       "      <td>-0.070347</td>\n",
       "      <td>1.000000</td>\n",
       "      <td>-0.121613</td>\n",
       "      <td>-0.027497</td>\n",
       "    </tr>\n",
       "    <tr>\n",
       "      <th>Engine Type_Petrol</th>\n",
       "      <td>-0.245465</td>\n",
       "      <td>-0.099893</td>\n",
       "      <td>-0.009001</td>\n",
       "      <td>0.108098</td>\n",
       "      <td>-0.131251</td>\n",
       "      <td>0.074160</td>\n",
       "      <td>-0.154384</td>\n",
       "      <td>0.146907</td>\n",
       "      <td>-0.034510</td>\n",
       "      <td>0.158295</td>\n",
       "      <td>0.016846</td>\n",
       "      <td>0.243618</td>\n",
       "      <td>-0.136628</td>\n",
       "      <td>-0.301046</td>\n",
       "      <td>-0.316443</td>\n",
       "      <td>-0.121613</td>\n",
       "      <td>1.000000</td>\n",
       "      <td>0.116512</td>\n",
       "    </tr>\n",
       "    <tr>\n",
       "      <th>Registration_yes</th>\n",
       "      <td>-0.241823</td>\n",
       "      <td>-0.046303</td>\n",
       "      <td>0.238013</td>\n",
       "      <td>-0.140754</td>\n",
       "      <td>-0.012056</td>\n",
       "      <td>0.073065</td>\n",
       "      <td>0.061723</td>\n",
       "      <td>0.119802</td>\n",
       "      <td>0.044300</td>\n",
       "      <td>0.004512</td>\n",
       "      <td>0.035661</td>\n",
       "      <td>-0.050678</td>\n",
       "      <td>-0.172488</td>\n",
       "      <td>0.099657</td>\n",
       "      <td>0.085257</td>\n",
       "      <td>-0.027497</td>\n",
       "      <td>0.116512</td>\n",
       "      <td>1.000000</td>\n",
       "    </tr>\n",
       "  </tbody>\n",
       "</table>\n",
       "</div>"
      ],
      "text/plain": [
       "                      Mileage   EngineV      Year  Brand_BMW  \\\n",
       "Mileage              1.000000  0.152230 -0.621586   0.119609   \n",
       "EngineV              0.152230  1.000000 -0.109634   0.183581   \n",
       "Year                -0.621586 -0.109634  1.000000  -0.161648   \n",
       "Brand_BMW            0.119609  0.183581 -0.161648   1.000000   \n",
       "Brand_Mercedes-Benz  0.192166  0.161249 -0.115794  -0.177091   \n",
       "Brand_Mitsubishi    -0.104992  0.004681  0.028604  -0.123945   \n",
       "Brand_Renault       -0.070080 -0.332464  0.146790  -0.151683   \n",
       "Brand_Toyota        -0.208443  0.147053  0.127380  -0.152480   \n",
       "Brand_Volkswagen    -0.032237 -0.247092  0.065444  -0.225001   \n",
       "Body_hatch          -0.115075 -0.290982 -0.030424  -0.088355   \n",
       "Body_other          -0.006270  0.015949  0.014918  -0.012223   \n",
       "Body_sedan           0.062877  0.032931 -0.189722   0.205278   \n",
       "Body_vagon           0.079636 -0.111404 -0.023614  -0.029027   \n",
       "Body_van             0.121432 -0.163453  0.102250  -0.180632   \n",
       "Engine Type_Gas      0.059478  0.153008 -0.133128  -0.051779   \n",
       "Engine Type_Other   -0.005059 -0.055447  0.000685  -0.038588   \n",
       "Engine Type_Petrol  -0.245465 -0.099893 -0.009001   0.108098   \n",
       "Registration_yes    -0.241823 -0.046303  0.238013  -0.140754   \n",
       "\n",
       "                     Brand_Mercedes-Benz  Brand_Mitsubishi  Brand_Renault  \\\n",
       "Mileage                         0.192166         -0.104992      -0.070080   \n",
       "EngineV                         0.161249          0.004681      -0.332464   \n",
       "Year                           -0.115794          0.028604       0.146790   \n",
       "Brand_BMW                      -0.177091         -0.123945      -0.151683   \n",
       "Brand_Mercedes-Benz             1.000000         -0.139439      -0.170644   \n",
       "Brand_Mitsubishi               -0.139439          1.000000      -0.119433   \n",
       "Brand_Renault                  -0.170644         -0.119433       1.000000   \n",
       "Brand_Toyota                   -0.171540         -0.120060      -0.146929   \n",
       "Brand_Volkswagen               -0.253127         -0.177162      -0.216810   \n",
       "Body_hatch                     -0.078009         -0.020150       0.015575   \n",
       "Body_other                      0.091117         -0.020663      -0.031227   \n",
       "Body_sedan                      0.048364         -0.000681      -0.204953   \n",
       "Body_vagon                     -0.108011         -0.082754       0.159273   \n",
       "Body_van                        0.098943         -0.125876       0.260760   \n",
       "Engine Type_Gas                -0.032340          0.181757      -0.105375   \n",
       "Engine Type_Other               0.005145         -0.019271       0.013819   \n",
       "Engine Type_Petrol             -0.131251          0.074160      -0.154384   \n",
       "Registration_yes               -0.012056          0.073065       0.061723   \n",
       "\n",
       "                     Brand_Toyota  Brand_Volkswagen  Body_hatch  Body_other  \\\n",
       "Mileage                 -0.208443         -0.032237   -0.115075   -0.006270   \n",
       "EngineV                  0.147053         -0.247092   -0.290982    0.015949   \n",
       "Year                     0.127380          0.065444   -0.030424    0.014918   \n",
       "Brand_BMW               -0.152480         -0.225001   -0.088355   -0.012223   \n",
       "Brand_Mercedes-Benz     -0.171540         -0.253127   -0.078009    0.091117   \n",
       "Brand_Mitsubishi        -0.120060         -0.177162   -0.020150   -0.020663   \n",
       "Brand_Renault           -0.146929         -0.216810    0.015575   -0.031227   \n",
       "Brand_Toyota             1.000000         -0.217949    0.073719   -0.035216   \n",
       "Brand_Volkswagen        -0.217949          1.000000    0.111627    0.018389   \n",
       "Body_hatch               0.073719          0.111627    1.000000   -0.093174   \n",
       "Body_other              -0.035216          0.018389   -0.093174    1.000000   \n",
       "Body_sedan               0.027358         -0.115257   -0.231085   -0.260519   \n",
       "Body_vagon              -0.100625         -0.005526   -0.100450   -0.113244   \n",
       "Body_van                -0.158757          0.177415   -0.130884   -0.147555   \n",
       "Engine Type_Gas          0.176123         -0.086191   -0.025532   -0.064210   \n",
       "Engine Type_Other        0.024102         -0.008094    0.049052    0.033916   \n",
       "Engine Type_Petrol       0.146907         -0.034510    0.158295    0.016846   \n",
       "Registration_yes         0.119802          0.044300    0.004512    0.035661   \n",
       "\n",
       "                     Body_sedan  Body_vagon  Body_van  Engine Type_Gas  \\\n",
       "Mileage                0.062877    0.079636  0.121432         0.059478   \n",
       "EngineV                0.032931   -0.111404 -0.163453         0.153008   \n",
       "Year                  -0.189722   -0.023614  0.102250        -0.133128   \n",
       "Brand_BMW              0.205278   -0.029027 -0.180632        -0.051779   \n",
       "Brand_Mercedes-Benz    0.048364   -0.108011  0.098943        -0.032340   \n",
       "Brand_Mitsubishi      -0.000681   -0.082754 -0.125876         0.181757   \n",
       "Brand_Renault         -0.204953    0.159273  0.260760        -0.105375   \n",
       "Brand_Toyota           0.027358   -0.100625 -0.158757         0.176123   \n",
       "Brand_Volkswagen      -0.115257   -0.005526  0.177415        -0.086191   \n",
       "Body_hatch            -0.231085   -0.100450 -0.130884        -0.025532   \n",
       "Body_other            -0.260519   -0.113244 -0.147555        -0.064210   \n",
       "Body_sedan             1.000000   -0.280862 -0.365957         0.111567   \n",
       "Body_vagon            -0.280862    1.000000 -0.159077        -0.063781   \n",
       "Body_van              -0.365957   -0.159077  1.000000        -0.149745   \n",
       "Engine Type_Gas        0.111567   -0.063781 -0.149745         1.000000   \n",
       "Engine Type_Other      0.006263    0.007085 -0.016723        -0.070347   \n",
       "Engine Type_Petrol     0.243618   -0.136628 -0.301046        -0.316443   \n",
       "Registration_yes      -0.050678   -0.172488  0.099657         0.085257   \n",
       "\n",
       "                     Engine Type_Other  Engine Type_Petrol  Registration_yes  \n",
       "Mileage                      -0.005059           -0.245465         -0.241823  \n",
       "EngineV                      -0.055447           -0.099893         -0.046303  \n",
       "Year                          0.000685           -0.009001          0.238013  \n",
       "Brand_BMW                    -0.038588            0.108098         -0.140754  \n",
       "Brand_Mercedes-Benz           0.005145           -0.131251         -0.012056  \n",
       "Brand_Mitsubishi             -0.019271            0.074160          0.073065  \n",
       "Brand_Renault                 0.013819           -0.154384          0.061723  \n",
       "Brand_Toyota                  0.024102            0.146907          0.119802  \n",
       "Brand_Volkswagen             -0.008094           -0.034510          0.044300  \n",
       "Body_hatch                    0.049052            0.158295          0.004512  \n",
       "Body_other                    0.033916            0.016846          0.035661  \n",
       "Body_sedan                    0.006263            0.243618         -0.050678  \n",
       "Body_vagon                    0.007085           -0.136628         -0.172488  \n",
       "Body_van                     -0.016723           -0.301046          0.099657  \n",
       "Engine Type_Gas              -0.070347           -0.316443          0.085257  \n",
       "Engine Type_Other             1.000000           -0.121613         -0.027497  \n",
       "Engine Type_Petrol           -0.121613            1.000000          0.116512  \n",
       "Registration_yes             -0.027497            0.116512          1.000000  "
      ]
     },
     "execution_count": 60,
     "metadata": {},
     "output_type": "execute_result"
    }
   ],
   "source": [
    "\n",
    "X.corr()"
   ]
  },
  {
   "cell_type": "markdown",
   "metadata": {},
   "source": [
    "#### 11B. Show the variables which are having Multicollinearity.\n",
    "\n",
    "Hint: VIF Score"
   ]
  },
  {
   "cell_type": "code",
   "execution_count": 61,
   "metadata": {},
   "outputs": [],
   "source": [
    "X = df5.drop('Price', axis=1)\n",
    "y = df5['Price']"
   ]
  },
  {
   "cell_type": "code",
   "execution_count": 62,
   "metadata": {},
   "outputs": [],
   "source": [
    "from sklearn.preprocessing import StandardScaler\n",
    "ss = StandardScaler()"
   ]
  },
  {
   "cell_type": "code",
   "execution_count": 63,
   "metadata": {},
   "outputs": [],
   "source": [
    "X_ss = ss.fit_transform(X)"
   ]
  },
  {
   "cell_type": "code",
   "execution_count": 64,
   "metadata": {},
   "outputs": [],
   "source": [
    "from statsmodels.stats.outliers_influence import variance_inflation_factor"
   ]
  },
  {
   "cell_type": "code",
   "execution_count": 137,
   "metadata": {},
   "outputs": [
    {
     "data": {
      "text/html": [
       "<div>\n",
       "<style scoped>\n",
       "    .dataframe tbody tr th:only-of-type {\n",
       "        vertical-align: middle;\n",
       "    }\n",
       "\n",
       "    .dataframe tbody tr th {\n",
       "        vertical-align: top;\n",
       "    }\n",
       "\n",
       "    .dataframe thead th {\n",
       "        text-align: right;\n",
       "    }\n",
       "</style>\n",
       "<table border=\"1\" class=\"dataframe\">\n",
       "  <thead>\n",
       "    <tr style=\"text-align: right;\">\n",
       "      <th></th>\n",
       "      <th>Variables</th>\n",
       "    </tr>\n",
       "  </thead>\n",
       "  <tbody>\n",
       "    <tr>\n",
       "      <th>0</th>\n",
       "      <td>Mileage</td>\n",
       "    </tr>\n",
       "    <tr>\n",
       "      <th>1</th>\n",
       "      <td>EngineV</td>\n",
       "    </tr>\n",
       "    <tr>\n",
       "      <th>2</th>\n",
       "      <td>Year</td>\n",
       "    </tr>\n",
       "  </tbody>\n",
       "</table>\n",
       "</div>"
      ],
      "text/plain": [
       "  Variables\n",
       "0   Mileage\n",
       "1   EngineV\n",
       "2      Year"
      ]
     },
     "execution_count": 137,
     "metadata": {},
     "output_type": "execute_result"
    }
   ],
   "source": [
    "vif = pd.DataFrame()\n",
    "vif['Variables']=[\"Mileage\",\"EngineV\",\"Year\"]\n",
    "vif"
   ]
  },
  {
   "cell_type": "code",
   "execution_count": 139,
   "metadata": {},
   "outputs": [],
   "source": [
    "vif['VIF Value']=[ variance_inflation_factor(X_ss, exog_idx=i) for i in range(3)]"
   ]
  },
  {
   "cell_type": "markdown",
   "metadata": {},
   "source": [
    "### All Features VIF value is below 5"
   ]
  },
  {
   "cell_type": "markdown",
   "metadata": {},
   "source": [
    "### Model fit"
   ]
  },
  {
   "cell_type": "code",
   "execution_count": 70,
   "metadata": {},
   "outputs": [],
   "source": [
    "import statsmodels.api as sm\n",
    "import statsmodels.formula.api as smf"
   ]
  },
  {
   "cell_type": "code",
   "execution_count": 71,
   "metadata": {},
   "outputs": [
    {
     "data": {
      "text/plain": [
       "Index(['Price', 'Mileage', 'EngineV', 'Year', 'Brand_Audi', 'Brand_BMW',\n",
       "       'Brand_Mercedes-Benz', 'Brand_Mitsubishi', 'Brand_Renault',\n",
       "       'Brand_Toyota', 'Brand_Volkswagen', 'Body_crossover', 'Body_hatch',\n",
       "       'Body_other', 'Body_sedan', 'Body_vagon', 'Body_van',\n",
       "       'Engine Type_Diesel', 'Engine Type_Gas', 'Engine Type_Other',\n",
       "       'Engine Type_Petrol', 'Registration_no', 'Registration_yes'],\n",
       "      dtype='object')"
      ]
     },
     "execution_count": 71,
     "metadata": {},
     "output_type": "execute_result"
    }
   ],
   "source": [
    "df5.columns"
   ]
  },
  {
   "cell_type": "markdown",
   "metadata": {},
   "source": [
    "#### 12A. Perform The Model fit & Model output using OLS "
   ]
  },
  {
   "cell_type": "code",
   "execution_count": 76,
   "metadata": {},
   "outputs": [],
   "source": [
    "df5 = df5.rename(columns = {\"Engine Type_Gas\":\"Engine_Type_Gas\",\n",
    "                           \"Engine Type_Other\":\"Engine_Type_Other\",\n",
    "                           \"Engine Type_Petrol\":\"Engine_Type_Petrol\",\n",
    "                            'Engine Type_Diesel' : 'Engine_Type_Diesel',\n",
    "                           \"Brand_Mercedes-Benz\":\"Brand_MercedesBenz\"})"
   ]
  },
  {
   "cell_type": "code",
   "execution_count": 77,
   "metadata": {},
   "outputs": [
    {
     "data": {
      "text/plain": [
       "'Price+Mileage+EngineV+Year+Brand_Audi+Brand_BMW+Brand_MercedesBenz+Brand_Mitsubishi+Brand_Renault+Brand_Toyota+Brand_Volkswagen+Body_crossover+Body_hatch+Body_other+Body_sedan+Body_vagon+Body_van+Engine_Type_Diesel+Engine_Type_Gas+Engine_Type_Other+Engine_Type_Petrol+Registration_no+Registration_yes'"
      ]
     },
     "execution_count": 77,
     "metadata": {},
     "output_type": "execute_result"
    }
   ],
   "source": [
    "\n",
    "'+'.join(list(df5.columns))\n"
   ]
  },
  {
   "cell_type": "code",
   "execution_count": 86,
   "metadata": {},
   "outputs": [],
   "source": [
    "olsmodel = smf.ols(formula ='Price~Mileage+EngineV+Year+Brand_Audi+Brand_BMW+Brand_MercedesBenz+Brand_Mitsubishi+Brand_Renault+Brand_Toyota+Brand_Volkswagen+Body_crossover+Body_hatch+Body_other+Body_sedan+Body_vagon+Body_van+Engine_Type_Diesel+Engine_Type_Gas+Engine_Type_Other+Engine_Type_Petrol+Registration_no+Registration_yes' ,data = df5).fit()"
   ]
  },
  {
   "cell_type": "markdown",
   "metadata": {},
   "source": [
    "#### 12B. Explain the Model Evaluation metrics in OLS method."
   ]
  },
  {
   "cell_type": "markdown",
   "metadata": {},
   "source": [
    "**Note:** Give The Explanation about R-square, Adjusted.R-Square and Explain the P-Value in OLS Table"
   ]
  },
  {
   "cell_type": "code",
   "execution_count": 87,
   "metadata": {},
   "outputs": [
    {
     "data": {
      "text/html": [
       "<table class=\"simpletable\">\n",
       "<caption>OLS Regression Results</caption>\n",
       "<tr>\n",
       "  <th>Dep. Variable:</th>          <td>Price</td>      <th>  R-squared:         </th> <td>   0.715</td> \n",
       "</tr>\n",
       "<tr>\n",
       "  <th>Model:</th>                   <td>OLS</td>       <th>  Adj. R-squared:    </th> <td>   0.714</td> \n",
       "</tr>\n",
       "<tr>\n",
       "  <th>Method:</th>             <td>Least Squares</td>  <th>  F-statistic:       </th> <td>   474.1</td> \n",
       "</tr>\n",
       "<tr>\n",
       "  <th>Date:</th>             <td>Thu, 22 Jul 2021</td> <th>  Prob (F-statistic):</th>  <td>  0.00</td>  \n",
       "</tr>\n",
       "<tr>\n",
       "  <th>Time:</th>                 <td>13:38:35</td>     <th>  Log-Likelihood:    </th> <td> -33901.</td> \n",
       "</tr>\n",
       "<tr>\n",
       "  <th>No. Observations:</th>      <td>  3419</td>      <th>  AIC:               </th> <td>6.784e+04</td>\n",
       "</tr>\n",
       "<tr>\n",
       "  <th>Df Residuals:</th>          <td>  3400</td>      <th>  BIC:               </th> <td>6.796e+04</td>\n",
       "</tr>\n",
       "<tr>\n",
       "  <th>Df Model:</th>              <td>    18</td>      <th>                     </th>     <td> </td>    \n",
       "</tr>\n",
       "<tr>\n",
       "  <th>Covariance Type:</th>      <td>nonrobust</td>    <th>                     </th>     <td> </td>    \n",
       "</tr>\n",
       "</table>\n",
       "<table class=\"simpletable\">\n",
       "<tr>\n",
       "           <td></td>             <th>coef</th>     <th>std err</th>      <th>t</th>      <th>P>|t|</th>  <th>[0.025</th>    <th>0.975]</th>  \n",
       "</tr>\n",
       "<tr>\n",
       "  <th>Intercept</th>          <td>-6.574e+05</td> <td> 1.74e+04</td> <td>  -37.830</td> <td> 0.000</td> <td>-6.92e+05</td> <td>-6.23e+05</td>\n",
       "</tr>\n",
       "<tr>\n",
       "  <th>Mileage</th>            <td>  -22.3892</td> <td>    1.293</td> <td>  -17.320</td> <td> 0.000</td> <td>  -24.924</td> <td>  -19.855</td>\n",
       "</tr>\n",
       "<tr>\n",
       "  <th>EngineV</th>            <td> 2672.6418</td> <td>  173.141</td> <td>   15.436</td> <td> 0.000</td> <td> 2333.170</td> <td> 3012.113</td>\n",
       "</tr>\n",
       "<tr>\n",
       "  <th>Year</th>               <td>  678.8480</td> <td>   17.781</td> <td>   38.179</td> <td> 0.000</td> <td>  643.986</td> <td>  713.710</td>\n",
       "</tr>\n",
       "<tr>\n",
       "  <th>Brand_Audi</th>         <td>-9.062e+04</td> <td> 2490.013</td> <td>  -36.391</td> <td> 0.000</td> <td>-9.55e+04</td> <td>-8.57e+04</td>\n",
       "</tr>\n",
       "<tr>\n",
       "  <th>Brand_BMW</th>          <td>-8.999e+04</td> <td> 2479.759</td> <td>  -36.291</td> <td> 0.000</td> <td>-9.49e+04</td> <td>-8.51e+04</td>\n",
       "</tr>\n",
       "<tr>\n",
       "  <th>Brand_MercedesBenz</th> <td> -9.16e+04</td> <td> 2485.275</td> <td>  -36.856</td> <td> 0.000</td> <td>-9.65e+04</td> <td>-8.67e+04</td>\n",
       "</tr>\n",
       "<tr>\n",
       "  <th>Brand_Mitsubishi</th>   <td>-9.816e+04</td> <td> 2494.043</td> <td>  -39.358</td> <td> 0.000</td> <td>-1.03e+05</td> <td>-9.33e+04</td>\n",
       "</tr>\n",
       "<tr>\n",
       "  <th>Brand_Renault</th>      <td>-9.861e+04</td> <td> 2503.242</td> <td>  -39.392</td> <td> 0.000</td> <td>-1.04e+05</td> <td>-9.37e+04</td>\n",
       "</tr>\n",
       "<tr>\n",
       "  <th>Brand_Toyota</th>       <td>-9.419e+04</td> <td> 2510.792</td> <td>  -37.515</td> <td> 0.000</td> <td>-9.91e+04</td> <td>-8.93e+04</td>\n",
       "</tr>\n",
       "<tr>\n",
       "  <th>Brand_Volkswagen</th>   <td>-9.427e+04</td> <td> 2492.093</td> <td>  -37.827</td> <td> 0.000</td> <td>-9.92e+04</td> <td>-8.94e+04</td>\n",
       "</tr>\n",
       "<tr>\n",
       "  <th>Body_crossover</th>     <td>-1.048e+05</td> <td> 2930.388</td> <td>  -35.775</td> <td> 0.000</td> <td>-1.11e+05</td> <td>-9.91e+04</td>\n",
       "</tr>\n",
       "<tr>\n",
       "  <th>Body_hatch</th>         <td>-1.108e+05</td> <td> 2872.536</td> <td>  -38.573</td> <td> 0.000</td> <td>-1.16e+05</td> <td>-1.05e+05</td>\n",
       "</tr>\n",
       "<tr>\n",
       "  <th>Body_other</th>         <td>-1.093e+05</td> <td> 2909.784</td> <td>  -37.551</td> <td> 0.000</td> <td>-1.15e+05</td> <td>-1.04e+05</td>\n",
       "</tr>\n",
       "<tr>\n",
       "  <th>Body_sedan</th>         <td>  -1.1e+05</td> <td> 2892.071</td> <td>  -38.022</td> <td> 0.000</td> <td>-1.16e+05</td> <td>-1.04e+05</td>\n",
       "</tr>\n",
       "<tr>\n",
       "  <th>Body_vagon</th>         <td>-1.104e+05</td> <td> 2908.072</td> <td>  -37.968</td> <td> 0.000</td> <td>-1.16e+05</td> <td>-1.05e+05</td>\n",
       "</tr>\n",
       "<tr>\n",
       "  <th>Body_van</th>           <td>-1.122e+05</td> <td> 2924.140</td> <td>  -38.355</td> <td> 0.000</td> <td>-1.18e+05</td> <td>-1.06e+05</td>\n",
       "</tr>\n",
       "<tr>\n",
       "  <th>Engine_Type_Diesel</th> <td>-1.633e+05</td> <td> 4378.164</td> <td>  -37.304</td> <td> 0.000</td> <td>-1.72e+05</td> <td>-1.55e+05</td>\n",
       "</tr>\n",
       "<tr>\n",
       "  <th>Engine_Type_Gas</th>    <td>-1.651e+05</td> <td> 4327.224</td> <td>  -38.164</td> <td> 0.000</td> <td>-1.74e+05</td> <td>-1.57e+05</td>\n",
       "</tr>\n",
       "<tr>\n",
       "  <th>Engine_Type_Other</th>  <td>-1.644e+05</td> <td> 4372.492</td> <td>  -37.607</td> <td> 0.000</td> <td>-1.73e+05</td> <td>-1.56e+05</td>\n",
       "</tr>\n",
       "<tr>\n",
       "  <th>Engine_Type_Petrol</th> <td>-1.645e+05</td> <td> 4332.617</td> <td>  -37.975</td> <td> 0.000</td> <td>-1.73e+05</td> <td>-1.56e+05</td>\n",
       "</tr>\n",
       "<tr>\n",
       "  <th>Registration_no</th>    <td>-3.321e+05</td> <td> 8672.967</td> <td>  -38.296</td> <td> 0.000</td> <td>-3.49e+05</td> <td>-3.15e+05</td>\n",
       "</tr>\n",
       "<tr>\n",
       "  <th>Registration_yes</th>   <td>-3.253e+05</td> <td> 8708.110</td> <td>  -37.356</td> <td> 0.000</td> <td>-3.42e+05</td> <td>-3.08e+05</td>\n",
       "</tr>\n",
       "</table>\n",
       "<table class=\"simpletable\">\n",
       "<tr>\n",
       "  <th>Omnibus:</th>       <td>770.575</td> <th>  Durbin-Watson:     </th> <td>   2.058</td>\n",
       "</tr>\n",
       "<tr>\n",
       "  <th>Prob(Omnibus):</th> <td> 0.000</td>  <th>  Jarque-Bera (JB):  </th> <td>2522.700</td>\n",
       "</tr>\n",
       "<tr>\n",
       "  <th>Skew:</th>          <td> 1.123</td>  <th>  Prob(JB):          </th> <td>    0.00</td>\n",
       "</tr>\n",
       "<tr>\n",
       "  <th>Kurtosis:</th>      <td> 6.558</td>  <th>  Cond. No.          </th> <td>1.96e+19</td>\n",
       "</tr>\n",
       "</table><br/><br/>Notes:<br/>[1] Standard Errors assume that the covariance matrix of the errors is correctly specified.<br/>[2] The smallest eigenvalue is 3.59e-29. This might indicate that there are<br/>strong multicollinearity problems or that the design matrix is singular."
      ],
      "text/plain": [
       "<class 'statsmodels.iolib.summary.Summary'>\n",
       "\"\"\"\n",
       "                            OLS Regression Results                            \n",
       "==============================================================================\n",
       "Dep. Variable:                  Price   R-squared:                       0.715\n",
       "Model:                            OLS   Adj. R-squared:                  0.714\n",
       "Method:                 Least Squares   F-statistic:                     474.1\n",
       "Date:                Thu, 22 Jul 2021   Prob (F-statistic):               0.00\n",
       "Time:                        13:38:35   Log-Likelihood:                -33901.\n",
       "No. Observations:                3419   AIC:                         6.784e+04\n",
       "Df Residuals:                    3400   BIC:                         6.796e+04\n",
       "Df Model:                          18                                         \n",
       "Covariance Type:            nonrobust                                         \n",
       "======================================================================================\n",
       "                         coef    std err          t      P>|t|      [0.025      0.975]\n",
       "--------------------------------------------------------------------------------------\n",
       "Intercept          -6.574e+05   1.74e+04    -37.830      0.000   -6.92e+05   -6.23e+05\n",
       "Mileage              -22.3892      1.293    -17.320      0.000     -24.924     -19.855\n",
       "EngineV             2672.6418    173.141     15.436      0.000    2333.170    3012.113\n",
       "Year                 678.8480     17.781     38.179      0.000     643.986     713.710\n",
       "Brand_Audi         -9.062e+04   2490.013    -36.391      0.000   -9.55e+04   -8.57e+04\n",
       "Brand_BMW          -8.999e+04   2479.759    -36.291      0.000   -9.49e+04   -8.51e+04\n",
       "Brand_MercedesBenz  -9.16e+04   2485.275    -36.856      0.000   -9.65e+04   -8.67e+04\n",
       "Brand_Mitsubishi   -9.816e+04   2494.043    -39.358      0.000   -1.03e+05   -9.33e+04\n",
       "Brand_Renault      -9.861e+04   2503.242    -39.392      0.000   -1.04e+05   -9.37e+04\n",
       "Brand_Toyota       -9.419e+04   2510.792    -37.515      0.000   -9.91e+04   -8.93e+04\n",
       "Brand_Volkswagen   -9.427e+04   2492.093    -37.827      0.000   -9.92e+04   -8.94e+04\n",
       "Body_crossover     -1.048e+05   2930.388    -35.775      0.000   -1.11e+05   -9.91e+04\n",
       "Body_hatch         -1.108e+05   2872.536    -38.573      0.000   -1.16e+05   -1.05e+05\n",
       "Body_other         -1.093e+05   2909.784    -37.551      0.000   -1.15e+05   -1.04e+05\n",
       "Body_sedan           -1.1e+05   2892.071    -38.022      0.000   -1.16e+05   -1.04e+05\n",
       "Body_vagon         -1.104e+05   2908.072    -37.968      0.000   -1.16e+05   -1.05e+05\n",
       "Body_van           -1.122e+05   2924.140    -38.355      0.000   -1.18e+05   -1.06e+05\n",
       "Engine_Type_Diesel -1.633e+05   4378.164    -37.304      0.000   -1.72e+05   -1.55e+05\n",
       "Engine_Type_Gas    -1.651e+05   4327.224    -38.164      0.000   -1.74e+05   -1.57e+05\n",
       "Engine_Type_Other  -1.644e+05   4372.492    -37.607      0.000   -1.73e+05   -1.56e+05\n",
       "Engine_Type_Petrol -1.645e+05   4332.617    -37.975      0.000   -1.73e+05   -1.56e+05\n",
       "Registration_no    -3.321e+05   8672.967    -38.296      0.000   -3.49e+05   -3.15e+05\n",
       "Registration_yes   -3.253e+05   8708.110    -37.356      0.000   -3.42e+05   -3.08e+05\n",
       "==============================================================================\n",
       "Omnibus:                      770.575   Durbin-Watson:                   2.058\n",
       "Prob(Omnibus):                  0.000   Jarque-Bera (JB):             2522.700\n",
       "Skew:                           1.123   Prob(JB):                         0.00\n",
       "Kurtosis:                       6.558   Cond. No.                     1.96e+19\n",
       "==============================================================================\n",
       "\n",
       "Notes:\n",
       "[1] Standard Errors assume that the covariance matrix of the errors is correctly specified.\n",
       "[2] The smallest eigenvalue is 3.59e-29. This might indicate that there are\n",
       "strong multicollinearity problems or that the design matrix is singular.\n",
       "\"\"\""
      ]
     },
     "execution_count": 87,
     "metadata": {},
     "output_type": "execute_result"
    }
   ],
   "source": [
    "\n",
    "olsmodel.summary()"
   ]
  },
  {
   "cell_type": "markdown",
   "metadata": {},
   "source": [
    "#### 13A. Feature Selection using with Forward Selection"
   ]
  },
  {
   "cell_type": "code",
   "execution_count": 83,
   "metadata": {},
   "outputs": [
    {
     "data": {
      "text/plain": [
       "['Year',\n",
       " 'EngineV',\n",
       " 'Mileage',\n",
       " 'Registration_yes',\n",
       " 'Registration_no',\n",
       " 'Brand_Renault',\n",
       " 'Brand_Mitsubishi',\n",
       " 'Body_crossover',\n",
       " 'Brand_Volkswagen',\n",
       " 'Brand_Toyota',\n",
       " 'Body_van',\n",
       " 'Engine_Type_Diesel',\n",
       " 'Brand_MercedesBenz',\n",
       " 'Body_other',\n",
       " 'Body_sedan',\n",
       " 'Engine_Type_Gas']"
      ]
     },
     "execution_count": 83,
     "metadata": {},
     "output_type": "execute_result"
    }
   ],
   "source": [
    "\n",
    "features= ['Mileage', 'EngineV', 'Year', 'Brand_Audi', 'Brand_BMW',\n",
    "       'Brand_MercedesBenz', 'Brand_Mitsubishi', 'Brand_Renault',\n",
    "       'Brand_Toyota', 'Brand_Volkswagen', 'Body_crossover', 'Body_hatch',\n",
    "       'Body_other', 'Body_sedan', 'Body_vagon', 'Body_van',\n",
    "       'Engine_Type_Diesel', 'Engine_Type_Gas', 'Engine_Type_Other',\n",
    "       'Engine_Type_Petrol', 'Registration_no', 'Registration_yes']\n",
    "selected_features=[]\n",
    "while True:\n",
    "    pvals=[]\n",
    "    for var in features:\n",
    "        required='+'.join(selected_features)\n",
    "        model=smf.ols(formula='Price~'+required+'+{}'.format(var),data=df5).fit()\n",
    "        pvals.append(model.pvalues[-1])\n",
    "    pvals=np.array(pvals)\n",
    "    if pvals.min() > 0.05:\n",
    "        break\n",
    "    else:\n",
    "        selected_features.append(features[pvals.argmin()])\n",
    "        features.pop(pvals.argmin())\n",
    "selected_features"
   ]
  },
  {
   "cell_type": "markdown",
   "metadata": {},
   "source": [
    "#### 13B. Feature Selection using with Backward Selection"
   ]
  },
  {
   "cell_type": "code",
   "execution_count": 85,
   "metadata": {},
   "outputs": [
    {
     "data": {
      "text/plain": [
       "['Mileage',\n",
       " 'EngineV',\n",
       " 'Year',\n",
       " 'Brand_Audi',\n",
       " 'Brand_BMW',\n",
       " 'Brand_MercedesBenz',\n",
       " 'Brand_Mitsubishi',\n",
       " 'Brand_Renault',\n",
       " 'Brand_Toyota',\n",
       " 'Brand_Volkswagen',\n",
       " 'Body_crossover',\n",
       " 'Body_hatch',\n",
       " 'Body_other',\n",
       " 'Body_sedan',\n",
       " 'Body_vagon',\n",
       " 'Body_van',\n",
       " 'Engine_Type_Diesel',\n",
       " 'Engine_Type_Gas',\n",
       " 'Engine_Type_Other',\n",
       " 'Engine_Type_Petrol',\n",
       " 'Registration_no',\n",
       " 'Registration_yes']"
      ]
     },
     "execution_count": 85,
     "metadata": {},
     "output_type": "execute_result"
    }
   ],
   "source": [
    "\n",
    "features= ['Mileage', 'EngineV', 'Year', 'Brand_Audi', 'Brand_BMW',\n",
    "       'Brand_MercedesBenz', 'Brand_Mitsubishi', 'Brand_Renault',\n",
    "       'Brand_Toyota', 'Brand_Volkswagen', 'Body_crossover', 'Body_hatch',\n",
    "       'Body_other', 'Body_sedan', 'Body_vagon', 'Body_van',\n",
    "       'Engine_Type_Diesel', 'Engine_Type_Gas', 'Engine_Type_Other',\n",
    "       'Engine_Type_Petrol', 'Registration_no', 'Registration_yes']\n",
    "while True:\n",
    "    required='+'.join(features)\n",
    "    model=smf.ols(formula='Price~'+required,data=df5).fit()\n",
    "    \n",
    "    if model.pvalues.max() < 0.05:\n",
    "        break\n",
    "    else:\n",
    "        features.remove(model.pvalues.idxmax())\n",
    "features"
   ]
  },
  {
   "cell_type": "code",
   "execution_count": 89,
   "metadata": {},
   "outputs": [
    {
     "data": {
      "text/plain": [
       "'Mileage+EngineV+Year+Brand_Audi+Brand_BMW+Brand_MercedesBenz+Brand_Mitsubishi+Brand_Renault+Brand_Toyota+Brand_Volkswagen+Body_crossover+Body_hatch+Body_other+Body_sedan+Body_vagon+Body_van+Engine_Type_Diesel+Engine_Type_Gas+Engine_Type_Other+Engine_Type_Petrol+Registration_no+Registration_yes'"
      ]
     },
     "execution_count": 89,
     "metadata": {},
     "output_type": "execute_result"
    }
   ],
   "source": [
    "feat = \"+\".join(features)\n",
    "feat"
   ]
  },
  {
   "cell_type": "code",
   "execution_count": 92,
   "metadata": {},
   "outputs": [],
   "source": [
    "\n",
    "model2 = smf.ols(formula = 'Price~Mileage+EngineV+Year+Brand_Audi+Brand_BMW+Brand_MercedesBenz+Brand_Mitsubishi+Brand_Renault+Brand_Toyota+Brand_Volkswagen+Body_crossover+Body_hatch+Body_other+Body_sedan+Body_vagon+Body_van+Engine_Type_Diesel+Engine_Type_Gas+Engine_Type_Other+Engine_Type_Petrol+Registration_no+Registration_yes',data=df5).fit()"
   ]
  },
  {
   "cell_type": "code",
   "execution_count": 101,
   "metadata": {},
   "outputs": [
    {
     "data": {
      "text/html": [
       "<table class=\"simpletable\">\n",
       "<caption>OLS Regression Results</caption>\n",
       "<tr>\n",
       "  <th>Dep. Variable:</th>          <td>Price</td>      <th>  R-squared:         </th> <td>   0.715</td> \n",
       "</tr>\n",
       "<tr>\n",
       "  <th>Model:</th>                   <td>OLS</td>       <th>  Adj. R-squared:    </th> <td>   0.714</td> \n",
       "</tr>\n",
       "<tr>\n",
       "  <th>Method:</th>             <td>Least Squares</td>  <th>  F-statistic:       </th> <td>   474.1</td> \n",
       "</tr>\n",
       "<tr>\n",
       "  <th>Date:</th>             <td>Thu, 22 Jul 2021</td> <th>  Prob (F-statistic):</th>  <td>  0.00</td>  \n",
       "</tr>\n",
       "<tr>\n",
       "  <th>Time:</th>                 <td>13:46:10</td>     <th>  Log-Likelihood:    </th> <td> -33901.</td> \n",
       "</tr>\n",
       "<tr>\n",
       "  <th>No. Observations:</th>      <td>  3419</td>      <th>  AIC:               </th> <td>6.784e+04</td>\n",
       "</tr>\n",
       "<tr>\n",
       "  <th>Df Residuals:</th>          <td>  3400</td>      <th>  BIC:               </th> <td>6.796e+04</td>\n",
       "</tr>\n",
       "<tr>\n",
       "  <th>Df Model:</th>              <td>    18</td>      <th>                     </th>     <td> </td>    \n",
       "</tr>\n",
       "<tr>\n",
       "  <th>Covariance Type:</th>      <td>nonrobust</td>    <th>                     </th>     <td> </td>    \n",
       "</tr>\n",
       "</table>\n",
       "<table class=\"simpletable\">\n",
       "<tr>\n",
       "           <td></td>             <th>coef</th>     <th>std err</th>      <th>t</th>      <th>P>|t|</th>  <th>[0.025</th>    <th>0.975]</th>  \n",
       "</tr>\n",
       "<tr>\n",
       "  <th>Intercept</th>          <td>-6.574e+05</td> <td> 1.74e+04</td> <td>  -37.830</td> <td> 0.000</td> <td>-6.92e+05</td> <td>-6.23e+05</td>\n",
       "</tr>\n",
       "<tr>\n",
       "  <th>Mileage</th>            <td>  -22.3892</td> <td>    1.293</td> <td>  -17.320</td> <td> 0.000</td> <td>  -24.924</td> <td>  -19.855</td>\n",
       "</tr>\n",
       "<tr>\n",
       "  <th>EngineV</th>            <td> 2672.6418</td> <td>  173.141</td> <td>   15.436</td> <td> 0.000</td> <td> 2333.170</td> <td> 3012.113</td>\n",
       "</tr>\n",
       "<tr>\n",
       "  <th>Year</th>               <td>  678.8480</td> <td>   17.781</td> <td>   38.179</td> <td> 0.000</td> <td>  643.986</td> <td>  713.710</td>\n",
       "</tr>\n",
       "<tr>\n",
       "  <th>Brand_Audi</th>         <td>-9.062e+04</td> <td> 2490.013</td> <td>  -36.391</td> <td> 0.000</td> <td>-9.55e+04</td> <td>-8.57e+04</td>\n",
       "</tr>\n",
       "<tr>\n",
       "  <th>Brand_BMW</th>          <td>-8.999e+04</td> <td> 2479.759</td> <td>  -36.291</td> <td> 0.000</td> <td>-9.49e+04</td> <td>-8.51e+04</td>\n",
       "</tr>\n",
       "<tr>\n",
       "  <th>Brand_MercedesBenz</th> <td> -9.16e+04</td> <td> 2485.275</td> <td>  -36.856</td> <td> 0.000</td> <td>-9.65e+04</td> <td>-8.67e+04</td>\n",
       "</tr>\n",
       "<tr>\n",
       "  <th>Brand_Mitsubishi</th>   <td>-9.816e+04</td> <td> 2494.043</td> <td>  -39.358</td> <td> 0.000</td> <td>-1.03e+05</td> <td>-9.33e+04</td>\n",
       "</tr>\n",
       "<tr>\n",
       "  <th>Brand_Renault</th>      <td>-9.861e+04</td> <td> 2503.242</td> <td>  -39.392</td> <td> 0.000</td> <td>-1.04e+05</td> <td>-9.37e+04</td>\n",
       "</tr>\n",
       "<tr>\n",
       "  <th>Brand_Toyota</th>       <td>-9.419e+04</td> <td> 2510.792</td> <td>  -37.515</td> <td> 0.000</td> <td>-9.91e+04</td> <td>-8.93e+04</td>\n",
       "</tr>\n",
       "<tr>\n",
       "  <th>Brand_Volkswagen</th>   <td>-9.427e+04</td> <td> 2492.093</td> <td>  -37.827</td> <td> 0.000</td> <td>-9.92e+04</td> <td>-8.94e+04</td>\n",
       "</tr>\n",
       "<tr>\n",
       "  <th>Body_crossover</th>     <td>-1.048e+05</td> <td> 2930.388</td> <td>  -35.775</td> <td> 0.000</td> <td>-1.11e+05</td> <td>-9.91e+04</td>\n",
       "</tr>\n",
       "<tr>\n",
       "  <th>Body_hatch</th>         <td>-1.108e+05</td> <td> 2872.536</td> <td>  -38.573</td> <td> 0.000</td> <td>-1.16e+05</td> <td>-1.05e+05</td>\n",
       "</tr>\n",
       "<tr>\n",
       "  <th>Body_other</th>         <td>-1.093e+05</td> <td> 2909.784</td> <td>  -37.551</td> <td> 0.000</td> <td>-1.15e+05</td> <td>-1.04e+05</td>\n",
       "</tr>\n",
       "<tr>\n",
       "  <th>Body_sedan</th>         <td>  -1.1e+05</td> <td> 2892.071</td> <td>  -38.022</td> <td> 0.000</td> <td>-1.16e+05</td> <td>-1.04e+05</td>\n",
       "</tr>\n",
       "<tr>\n",
       "  <th>Body_vagon</th>         <td>-1.104e+05</td> <td> 2908.072</td> <td>  -37.968</td> <td> 0.000</td> <td>-1.16e+05</td> <td>-1.05e+05</td>\n",
       "</tr>\n",
       "<tr>\n",
       "  <th>Body_van</th>           <td>-1.122e+05</td> <td> 2924.140</td> <td>  -38.355</td> <td> 0.000</td> <td>-1.18e+05</td> <td>-1.06e+05</td>\n",
       "</tr>\n",
       "<tr>\n",
       "  <th>Engine_Type_Diesel</th> <td>-1.633e+05</td> <td> 4378.164</td> <td>  -37.304</td> <td> 0.000</td> <td>-1.72e+05</td> <td>-1.55e+05</td>\n",
       "</tr>\n",
       "<tr>\n",
       "  <th>Engine_Type_Gas</th>    <td>-1.651e+05</td> <td> 4327.224</td> <td>  -38.164</td> <td> 0.000</td> <td>-1.74e+05</td> <td>-1.57e+05</td>\n",
       "</tr>\n",
       "<tr>\n",
       "  <th>Engine_Type_Other</th>  <td>-1.644e+05</td> <td> 4372.492</td> <td>  -37.607</td> <td> 0.000</td> <td>-1.73e+05</td> <td>-1.56e+05</td>\n",
       "</tr>\n",
       "<tr>\n",
       "  <th>Engine_Type_Petrol</th> <td>-1.645e+05</td> <td> 4332.617</td> <td>  -37.975</td> <td> 0.000</td> <td>-1.73e+05</td> <td>-1.56e+05</td>\n",
       "</tr>\n",
       "<tr>\n",
       "  <th>Registration_no</th>    <td>-3.321e+05</td> <td> 8672.967</td> <td>  -38.296</td> <td> 0.000</td> <td>-3.49e+05</td> <td>-3.15e+05</td>\n",
       "</tr>\n",
       "<tr>\n",
       "  <th>Registration_yes</th>   <td>-3.253e+05</td> <td> 8708.110</td> <td>  -37.356</td> <td> 0.000</td> <td>-3.42e+05</td> <td>-3.08e+05</td>\n",
       "</tr>\n",
       "</table>\n",
       "<table class=\"simpletable\">\n",
       "<tr>\n",
       "  <th>Omnibus:</th>       <td>770.575</td> <th>  Durbin-Watson:     </th> <td>   2.058</td>\n",
       "</tr>\n",
       "<tr>\n",
       "  <th>Prob(Omnibus):</th> <td> 0.000</td>  <th>  Jarque-Bera (JB):  </th> <td>2522.700</td>\n",
       "</tr>\n",
       "<tr>\n",
       "  <th>Skew:</th>          <td> 1.123</td>  <th>  Prob(JB):          </th> <td>    0.00</td>\n",
       "</tr>\n",
       "<tr>\n",
       "  <th>Kurtosis:</th>      <td> 6.558</td>  <th>  Cond. No.          </th> <td>1.96e+19</td>\n",
       "</tr>\n",
       "</table><br/><br/>Notes:<br/>[1] Standard Errors assume that the covariance matrix of the errors is correctly specified.<br/>[2] The smallest eigenvalue is 3.59e-29. This might indicate that there are<br/>strong multicollinearity problems or that the design matrix is singular."
      ],
      "text/plain": [
       "<class 'statsmodels.iolib.summary.Summary'>\n",
       "\"\"\"\n",
       "                            OLS Regression Results                            \n",
       "==============================================================================\n",
       "Dep. Variable:                  Price   R-squared:                       0.715\n",
       "Model:                            OLS   Adj. R-squared:                  0.714\n",
       "Method:                 Least Squares   F-statistic:                     474.1\n",
       "Date:                Thu, 22 Jul 2021   Prob (F-statistic):               0.00\n",
       "Time:                        13:46:10   Log-Likelihood:                -33901.\n",
       "No. Observations:                3419   AIC:                         6.784e+04\n",
       "Df Residuals:                    3400   BIC:                         6.796e+04\n",
       "Df Model:                          18                                         \n",
       "Covariance Type:            nonrobust                                         \n",
       "======================================================================================\n",
       "                         coef    std err          t      P>|t|      [0.025      0.975]\n",
       "--------------------------------------------------------------------------------------\n",
       "Intercept          -6.574e+05   1.74e+04    -37.830      0.000   -6.92e+05   -6.23e+05\n",
       "Mileage              -22.3892      1.293    -17.320      0.000     -24.924     -19.855\n",
       "EngineV             2672.6418    173.141     15.436      0.000    2333.170    3012.113\n",
       "Year                 678.8480     17.781     38.179      0.000     643.986     713.710\n",
       "Brand_Audi         -9.062e+04   2490.013    -36.391      0.000   -9.55e+04   -8.57e+04\n",
       "Brand_BMW          -8.999e+04   2479.759    -36.291      0.000   -9.49e+04   -8.51e+04\n",
       "Brand_MercedesBenz  -9.16e+04   2485.275    -36.856      0.000   -9.65e+04   -8.67e+04\n",
       "Brand_Mitsubishi   -9.816e+04   2494.043    -39.358      0.000   -1.03e+05   -9.33e+04\n",
       "Brand_Renault      -9.861e+04   2503.242    -39.392      0.000   -1.04e+05   -9.37e+04\n",
       "Brand_Toyota       -9.419e+04   2510.792    -37.515      0.000   -9.91e+04   -8.93e+04\n",
       "Brand_Volkswagen   -9.427e+04   2492.093    -37.827      0.000   -9.92e+04   -8.94e+04\n",
       "Body_crossover     -1.048e+05   2930.388    -35.775      0.000   -1.11e+05   -9.91e+04\n",
       "Body_hatch         -1.108e+05   2872.536    -38.573      0.000   -1.16e+05   -1.05e+05\n",
       "Body_other         -1.093e+05   2909.784    -37.551      0.000   -1.15e+05   -1.04e+05\n",
       "Body_sedan           -1.1e+05   2892.071    -38.022      0.000   -1.16e+05   -1.04e+05\n",
       "Body_vagon         -1.104e+05   2908.072    -37.968      0.000   -1.16e+05   -1.05e+05\n",
       "Body_van           -1.122e+05   2924.140    -38.355      0.000   -1.18e+05   -1.06e+05\n",
       "Engine_Type_Diesel -1.633e+05   4378.164    -37.304      0.000   -1.72e+05   -1.55e+05\n",
       "Engine_Type_Gas    -1.651e+05   4327.224    -38.164      0.000   -1.74e+05   -1.57e+05\n",
       "Engine_Type_Other  -1.644e+05   4372.492    -37.607      0.000   -1.73e+05   -1.56e+05\n",
       "Engine_Type_Petrol -1.645e+05   4332.617    -37.975      0.000   -1.73e+05   -1.56e+05\n",
       "Registration_no    -3.321e+05   8672.967    -38.296      0.000   -3.49e+05   -3.15e+05\n",
       "Registration_yes   -3.253e+05   8708.110    -37.356      0.000   -3.42e+05   -3.08e+05\n",
       "==============================================================================\n",
       "Omnibus:                      770.575   Durbin-Watson:                   2.058\n",
       "Prob(Omnibus):                  0.000   Jarque-Bera (JB):             2522.700\n",
       "Skew:                           1.123   Prob(JB):                         0.00\n",
       "Kurtosis:                       6.558   Cond. No.                     1.96e+19\n",
       "==============================================================================\n",
       "\n",
       "Notes:\n",
       "[1] Standard Errors assume that the covariance matrix of the errors is correctly specified.\n",
       "[2] The smallest eigenvalue is 3.59e-29. This might indicate that there are\n",
       "strong multicollinearity problems or that the design matrix is singular.\n",
       "\"\"\""
      ]
     },
     "execution_count": 101,
     "metadata": {},
     "output_type": "execute_result"
    }
   ],
   "source": [
    "model2.summary()"
   ]
  },
  {
   "cell_type": "markdown",
   "metadata": {},
   "source": [
    "#### 14A. Explain about Assumption of errors and predictors\n"
   ]
  },
  {
   "cell_type": "code",
   "execution_count": 102,
   "metadata": {},
   "outputs": [
    {
     "data": {
      "image/png": "[encoded data removed]",
      "text/plain": [
       "<Figure size 432x288 with 1 Axes>"
      ]
     },
     "metadata": {
      "needs_background": "light"
     },
     "output_type": "display_data"
    }
   ],
   "source": [
    "\n",
    "sm.graphics.qqplot(model2.resid, line='s');"
   ]
  },
  {
   "cell_type": "markdown",
   "metadata": {},
   "source": [
    "#### 14B. Perform Residual Analysis Give The Interpretations."
   ]
  },
  {
   "cell_type": "code",
   "execution_count": 103,
   "metadata": {},
   "outputs": [
    {
     "data": {
      "image/png": "[encoded data removed]",
      "text/plain": [
       "<Figure size 432x288 with 1 Axes>"
      ]
     },
     "metadata": {
      "needs_background": "light"
     },
     "output_type": "display_data"
    }
   ],
   "source": [
    "\n",
    "predict_val= olsmodel.fittedvalues.copy()\n",
    "true_value = df5[\"Price\"].values.copy()\n",
    "resid = true_value - predict_val\n",
    "res = sns.residplot(resid,predict_val)\n",
    "plt.show()\n"
   ]
  },
  {
   "cell_type": "code",
   "execution_count": 104,
   "metadata": {},
   "outputs": [
    {
     "data": {
      "text/plain": [
       "<AxesSubplot:ylabel='Density'>"
      ]
     },
     "execution_count": 104,
     "metadata": {},
     "output_type": "execute_result"
    },
    {
     "data": {
      "image/png": "[encoded data removed]",
      "text/plain": [
       "<Figure size 432x288 with 1 Axes>"
      ]
     },
     "metadata": {
      "needs_background": "light"
     },
     "output_type": "display_data"
    }
   ],
   "source": [
    "sns.distplot(resid)"
   ]
  },
  {
   "cell_type": "markdown",
   "metadata": {},
   "source": [
    "## Interpretations\n",
    "### Error values are normally distributed\n",
    "### Error values have same variance "
   ]
  },
  {
   "cell_type": "markdown",
   "metadata": {},
   "source": []
  },
  {
   "cell_type": "markdown",
   "metadata": {},
   "source": [
    "#### 15A. Split The Dataset into Train and Test (80:20) using Sklearn"
   ]
  },
  {
   "cell_type": "code",
   "execution_count": 113,
   "metadata": {},
   "outputs": [],
   "source": [
    "\n",
    "from sklearn.model_selection import train_test_split\n",
    "X_train,X_test,y_train,y_test=train_test_split(X,y,test_size=0.2,random_state =42 )"
   ]
  },
  {
   "cell_type": "markdown",
   "metadata": {},
   "source": [
    "#### 15B. Perform the Linear Regression Model fit using Sklearn."
   ]
  },
  {
   "cell_type": "code",
   "execution_count": 114,
   "metadata": {},
   "outputs": [
    {
     "data": {
      "text/plain": [
       "LinearRegression()"
      ]
     },
     "execution_count": 114,
     "metadata": {},
     "output_type": "execute_result"
    }
   ],
   "source": [
    "\n",
    "from sklearn.linear_model import LinearRegression\n",
    "\n",
    "regr = LinearRegression()\n",
    "\n",
    "  \n",
    "regr.fit(X_train, y_train)"
   ]
  },
  {
   "cell_type": "code",
   "execution_count": 115,
   "metadata": {},
   "outputs": [],
   "source": [
    "y_pred = regr.predict(X_test)"
   ]
  },
  {
   "cell_type": "code",
   "execution_count": 116,
   "metadata": {},
   "outputs": [
    {
     "name": "stdout",
     "output_type": "stream",
     "text": [
      "r2 score is 0.7154278575248857\n"
     ]
    }
   ],
   "source": [
    "from sklearn.metrics import r2_score\n",
    "score=r2_score(y_test,y_pred)\n",
    "print(\"r2 score is\" ,score)"
   ]
  },
  {
   "cell_type": "code",
   "execution_count": 125,
   "metadata": {},
   "outputs": [
    {
     "name": "stdout",
     "output_type": "stream",
     "text": [
      "            column_name  coeff_value\n",
      "0               Mileage   -21.780142\n",
      "1               EngineV  2536.711897\n",
      "2                  Year   695.209283\n",
      "3            Brand_Audi  3281.526482\n",
      "4             Brand_BMW  3815.466291\n",
      "5   Brand_Mercedes-Benz  2283.597015\n",
      "6      Brand_Mitsubishi -4158.739636\n",
      "7         Brand_Renault -4733.619576\n",
      "8          Brand_Toyota  -123.227901\n",
      "9      Brand_Volkswagen  -365.002675\n",
      "10       Body_crossover  4812.262790\n",
      "11           Body_hatch -1435.644416\n",
      "12           Body_other   250.580099\n",
      "13           Body_sedan  -258.772493\n",
      "14           Body_vagon  -797.013936\n",
      "15             Body_van -2571.412045\n",
      "16   Engine Type_Diesel  1027.722473\n",
      "17      Engine Type_Gas  -793.661583\n",
      "18    Engine Type_Other   -38.865832\n",
      "19   Engine Type_Petrol  -195.195059\n",
      "20      Registration_no -3509.756717\n",
      "21     Registration_yes  3509.756717\n"
     ]
    },
    {
     "data": {
      "text/plain": [
       "(array([ 0,  1,  2,  3,  4,  5,  6,  7,  8,  9, 10, 11, 12, 13, 14, 15, 16,\n",
       "        17, 18, 19, 20, 21]),\n",
       " [Text(0, 0, 'Mileage'),\n",
       "  Text(1, 0, 'EngineV'),\n",
       "  Text(2, 0, 'Year'),\n",
       "  Text(3, 0, 'Brand_Audi'),\n",
       "  Text(4, 0, 'Brand_BMW'),\n",
       "  Text(5, 0, 'Brand_Mercedes-Benz'),\n",
       "  Text(6, 0, 'Brand_Mitsubishi'),\n",
       "  Text(7, 0, 'Brand_Renault'),\n",
       "  Text(8, 0, 'Brand_Toyota'),\n",
       "  Text(9, 0, 'Brand_Volkswagen'),\n",
       "  Text(10, 0, 'Body_crossover'),\n",
       "  Text(11, 0, 'Body_hatch'),\n",
       "  Text(12, 0, 'Body_other'),\n",
       "  Text(13, 0, 'Body_sedan'),\n",
       "  Text(14, 0, 'Body_vagon'),\n",
       "  Text(15, 0, 'Body_van'),\n",
       "  Text(16, 0, 'Engine Type_Diesel'),\n",
       "  Text(17, 0, 'Engine Type_Gas'),\n",
       "  Text(18, 0, 'Engine Type_Other'),\n",
       "  Text(19, 0, 'Engine Type_Petrol'),\n",
       "  Text(20, 0, 'Registration_no'),\n",
       "  Text(21, 0, 'Registration_yes')])"
      ]
     },
     "execution_count": 125,
     "metadata": {},
     "output_type": "execute_result"
    },
    {
     "data": {
      "image/png": "[encoded data removed]",
      "text/plain": [
       "<Figure size 1080x432 with 1 Axes>"
      ]
     },
     "metadata": {
      "needs_background": "light"
     },
     "output_type": "display_data"
    }
   ],
   "source": [
    "coeff_df = pd.DataFrame()\n",
    "coeff_df[\"column_name\"] = X_train.columns\n",
    "coeff_df[\"coeff_value\"] = pd.Series(regr.coef_)\n",
    "print(coeff_df)\n",
    "plt.figure(figsize = (15,6))\n",
    "sns.barplot(coeff_df[\"column_name\"],coeff_df[\"coeff_value\"])\n",
    "plt.xticks(rotation = 90)"
   ]
  },
  {
   "cell_type": "markdown",
   "metadata": {},
   "source": [
    "#### 15C. Explain about Lasso Regression and Perform the Lasso Regression"
   ]
  },
  {
   "cell_type": "code",
   "execution_count": 129,
   "metadata": {},
   "outputs": [
    {
     "name": "stdout",
     "output_type": "stream",
     "text": [
      "r2 score is 0.7154618109724222\n"
     ]
    }
   ],
   "source": [
    "\n",
    "from sklearn.linear_model import Lasso\n",
    "las = Lasso(alpha = 1)\n",
    "las.fit(X_train, y_train) \n",
    "pred_test_rr= las.predict(X_test)\n",
    "print(\"r2 score is\",r2_score(y_test, pred_test_rr))"
   ]
  },
  {
   "cell_type": "code",
   "execution_count": 130,
   "metadata": {},
   "outputs": [
    {
     "name": "stdout",
     "output_type": "stream",
     "text": [
      "            column_name  coeff_value\n",
      "0               Mileage   -21.781094\n",
      "1               EngineV  2544.950133\n",
      "2                  Year   695.404224\n",
      "3            Brand_Audi  3394.486070\n",
      "4             Brand_BMW  3932.696846\n",
      "5   Brand_Mercedes-Benz  2404.805207\n",
      "6      Brand_Mitsubishi -4019.100852\n",
      "7         Brand_Renault -4597.562133\n",
      "8          Brand_Toyota     0.000000\n",
      "9      Brand_Volkswagen  -234.465982\n",
      "10       Body_crossover  5583.043320\n",
      "11           Body_hatch  -636.777031\n",
      "12           Body_other  1026.548057\n",
      "13           Body_sedan   522.391598\n",
      "14           Body_vagon    -0.000000\n",
      "15             Body_van -1776.872780\n",
      "16   Engine Type_Diesel  1209.436426\n",
      "17      Engine Type_Gas  -596.801449\n",
      "18    Engine Type_Other   110.069985\n",
      "19   Engine Type_Petrol    -0.000000\n",
      "20      Registration_no -7001.412668\n",
      "21     Registration_yes     0.000000\n"
     ]
    },
    {
     "data": {
      "text/plain": [
       "(array([ 0,  1,  2,  3,  4,  5,  6,  7,  8,  9, 10, 11, 12, 13, 14, 15, 16,\n",
       "        17, 18, 19, 20, 21]),\n",
       " [Text(0, 0, 'Mileage'),\n",
       "  Text(1, 0, 'EngineV'),\n",
       "  Text(2, 0, 'Year'),\n",
       "  Text(3, 0, 'Brand_Audi'),\n",
       "  Text(4, 0, 'Brand_BMW'),\n",
       "  Text(5, 0, 'Brand_Mercedes-Benz'),\n",
       "  Text(6, 0, 'Brand_Mitsubishi'),\n",
       "  Text(7, 0, 'Brand_Renault'),\n",
       "  Text(8, 0, 'Brand_Toyota'),\n",
       "  Text(9, 0, 'Brand_Volkswagen'),\n",
       "  Text(10, 0, 'Body_crossover'),\n",
       "  Text(11, 0, 'Body_hatch'),\n",
       "  Text(12, 0, 'Body_other'),\n",
       "  Text(13, 0, 'Body_sedan'),\n",
       "  Text(14, 0, 'Body_vagon'),\n",
       "  Text(15, 0, 'Body_van'),\n",
       "  Text(16, 0, 'Engine Type_Diesel'),\n",
       "  Text(17, 0, 'Engine Type_Gas'),\n",
       "  Text(18, 0, 'Engine Type_Other'),\n",
       "  Text(19, 0, 'Engine Type_Petrol'),\n",
       "  Text(20, 0, 'Registration_no'),\n",
       "  Text(21, 0, 'Registration_yes')])"
      ]
     },
     "execution_count": 130,
     "metadata": {},
     "output_type": "execute_result"
    },
    {
     "data": {
      "image/png": "[encoded data removed]",
      "text/plain": [
       "<Figure size 1080x432 with 1 Axes>"
      ]
     },
     "metadata": {
      "needs_background": "light"
     },
     "output_type": "display_data"
    }
   ],
   "source": [
    "coeff_df = pd.DataFrame()\n",
    "coeff_df[\"column_name\"] = X_train.columns\n",
    "coeff_df[\"coeff_value\"] = pd.Series(las.coef_)\n",
    "print(coeff_df)\n",
    "plt.figure(figsize = (15,6))\n",
    "sns.barplot(coeff_df[\"column_name\"],coeff_df[\"coeff_value\"])\n",
    "plt.xticks(rotation = 90)"
   ]
  },
  {
   "cell_type": "markdown",
   "metadata": {},
   "source": [
    "#### 15D. Explain about Ridge Regression and Perform the Ridge Regression"
   ]
  },
  {
   "cell_type": "code",
   "execution_count": 131,
   "metadata": {},
   "outputs": [
    {
     "name": "stdout",
     "output_type": "stream",
     "text": [
      "r2 score is 0.7154340886506927\n"
     ]
    }
   ],
   "source": [
    "\n",
    "from sklearn.linear_model import Ridge\n",
    "rr = Ridge(alpha = 1)\n",
    "rr.fit(X_train, y_train) \n",
    "pred_test_rr= rr.predict(X_test)\n",
    "print(\"r2 score is\",r2_score(y_test, pred_test_rr))"
   ]
  },
  {
   "cell_type": "code",
   "execution_count": 132,
   "metadata": {},
   "outputs": [
    {
     "name": "stdout",
     "output_type": "stream",
     "text": [
      "            column_name  coeff_value\n",
      "0               Mileage   -21.787196\n",
      "1               EngineV  2547.502376\n",
      "2                  Year   695.316743\n",
      "3            Brand_Audi  3264.497122\n",
      "4             Brand_BMW  3800.362553\n",
      "5   Brand_Mercedes-Benz  2275.079598\n",
      "6      Brand_Mitsubishi -4136.098758\n",
      "7         Brand_Renault -4716.951213\n",
      "8          Brand_Toyota  -122.458326\n",
      "9      Brand_Volkswagen  -364.430975\n",
      "10       Body_crossover  4791.851601\n",
      "11           Body_hatch -1426.691791\n",
      "12           Body_other   250.445523\n",
      "13           Body_sedan  -257.191922\n",
      "14           Body_vagon  -793.499536\n",
      "15             Body_van -2564.913876\n",
      "16   Engine Type_Diesel  1024.688950\n",
      "17      Engine Type_Gas  -792.465496\n",
      "18    Engine Type_Other   -39.821222\n",
      "19   Engine Type_Petrol  -192.402232\n",
      "20      Registration_no -3499.115485\n",
      "21     Registration_yes  3499.115485\n"
     ]
    },
    {
     "data": {
      "text/plain": [
       "(array([ 0,  1,  2,  3,  4,  5,  6,  7,  8,  9, 10, 11, 12, 13, 14, 15, 16,\n",
       "        17, 18, 19, 20, 21]),\n",
       " [Text(0, 0, 'Mileage'),\n",
       "  Text(1, 0, 'EngineV'),\n",
       "  Text(2, 0, 'Year'),\n",
       "  Text(3, 0, 'Brand_Audi'),\n",
       "  Text(4, 0, 'Brand_BMW'),\n",
       "  Text(5, 0, 'Brand_Mercedes-Benz'),\n",
       "  Text(6, 0, 'Brand_Mitsubishi'),\n",
       "  Text(7, 0, 'Brand_Renault'),\n",
       "  Text(8, 0, 'Brand_Toyota'),\n",
       "  Text(9, 0, 'Brand_Volkswagen'),\n",
       "  Text(10, 0, 'Body_crossover'),\n",
       "  Text(11, 0, 'Body_hatch'),\n",
       "  Text(12, 0, 'Body_other'),\n",
       "  Text(13, 0, 'Body_sedan'),\n",
       "  Text(14, 0, 'Body_vagon'),\n",
       "  Text(15, 0, 'Body_van'),\n",
       "  Text(16, 0, 'Engine Type_Diesel'),\n",
       "  Text(17, 0, 'Engine Type_Gas'),\n",
       "  Text(18, 0, 'Engine Type_Other'),\n",
       "  Text(19, 0, 'Engine Type_Petrol'),\n",
       "  Text(20, 0, 'Registration_no'),\n",
       "  Text(21, 0, 'Registration_yes')])"
      ]
     },
     "execution_count": 132,
     "metadata": {},
     "output_type": "execute_result"
    },
    {
     "data": {
      "image/png": "[encoded data removed]",
      "text/plain": [
       "<Figure size 1080x432 with 1 Axes>"
      ]
     },
     "metadata": {
      "needs_background": "light"
     },
     "output_type": "display_data"
    }
   ],
   "source": [
    "coeff_df = pd.DataFrame()\n",
    "coeff_df[\"column_name\"] = X_train.columns\n",
    "coeff_df[\"coeff_value\"] = pd.Series(rr.coef_)\n",
    "print(coeff_df)\n",
    "plt.figure(figsize = (15,6))\n",
    "sns.barplot(coeff_df[\"column_name\"],coeff_df[\"coeff_value\"])\n",
    "plt.xticks(rotation = 90)"
   ]
  },
  {
   "cell_type": "code",
   "execution_count": 135,
   "metadata": {},
   "outputs": [
    {
     "name": "stdout",
     "output_type": "stream",
     "text": [
      "0.7154340886506927 1.0\n",
      "0.7154343968812475 1.0816326530612246\n",
      "0.7154346751874925 1.163265306122449\n",
      "0.715434923638165 1.2448979591836735\n",
      "0.7154351423018297 1.3265306122448979\n",
      "0.7154353312468682 1.4081632653061225\n",
      "0.7154354905414984 1.489795918367347\n",
      "0.7154356202537595 1.5714285714285714\n",
      "0.7154357204515209 1.6530612244897958\n",
      "0.7154357912024734 1.7346938775510203\n",
      "0.7154358325741468 1.816326530612245\n",
      "0.7154358446338889 1.8979591836734693\n",
      "0.7154358274488843 1.9795918367346939\n",
      "0.7154357810861423 2.061224489795918\n",
      "0.7154357056125055 2.142857142857143\n",
      "0.7154356010946481 2.224489795918367\n",
      "0.7154354675990711 2.3061224489795915\n",
      "0.7154353051921141 2.387755102040816\n",
      "0.7154351139399424 2.4693877551020407\n",
      "0.7154348939085562 2.5510204081632653\n",
      "0.7154346451637915 2.63265306122449\n",
      "0.7154343677713164 2.7142857142857144\n",
      "0.7154340617966304 2.7959183673469385\n",
      "0.7154337273050745 2.877551020408163\n",
      "0.7154333643618157 2.9591836734693877\n",
      "0.7154329730318656 3.0408163265306123\n",
      "0.715432553380067 3.1224489795918364\n",
      "0.7154321054711015 3.204081632653061\n",
      "0.7154316293694865 3.2857142857142856\n",
      "0.7154311251395777 3.36734693877551\n",
      "0.7154305928455681 3.4489795918367343\n",
      "0.715430032551489 3.530612244897959\n",
      "0.7154294443212155 3.6122448979591835\n",
      "0.7154288282184555 3.693877551020408\n",
      "0.7154281843067603 3.7755102040816326\n",
      "0.7154275126495211 3.8571428571428568\n",
      "0.7154268133099704 3.9387755102040813\n",
      "0.7154260863511817 4.020408163265306\n",
      "0.7154253318360719 4.1020408163265305\n",
      "0.7154245498273997 4.183673469387754\n",
      "0.7154237403877614 4.26530612244898\n",
      "0.7154229035796056 4.346938775510203\n",
      "0.7154220394652174 4.428571428571429\n",
      "0.715421148106731 4.5102040816326525\n",
      "0.7154202295661203 4.591836734693877\n",
      "0.7154192839052085 4.673469387755102\n",
      "0.7154183111856618 4.755102040816326\n",
      "0.7154173114689955 4.836734693877551\n",
      "0.7154162848165662 4.918367346938775\n",
      "0.7154152312895833 5.0\n"
     ]
    }
   ],
   "source": [
    "from sklearn.linear_model import Ridge\n",
    "alpha_val = []\n",
    "for i in np.linspace(1,5,50):\n",
    "    rr = Ridge(alpha = i)\n",
    "    rr.fit(X_train, y_train)\n",
    "    y_pred_rid = rr.predict(X_test)\n",
    "    score=r2_score(y_test,y_pred_rid)\n",
    "    alpha_val.append(i)\n",
    "    print(score,i)\n",
    "    "
   ]
  },
  {
   "cell_type": "markdown",
   "metadata": {},
   "source": [
    "### Give the Conclusions about the Model fits for What you Observe."
   ]
  },
  {
   "cell_type": "markdown",
   "metadata": {},
   "source": [
    "## Interpretations\n",
    "### Linear regression model  has a goodness/ R2_score of around 71.5% \n",
    "### To reduce overfitting Reguralization techniques are used\n",
    "### In Lasso Regression the coefficients are made to zero which are causing problem"
   ]
  },
  {
   "cell_type": "code",
   "execution_count": null,
   "metadata": {},
   "outputs": [],
   "source": []
  }
 ],
 "metadata": {
  "kernelspec": {
   "display_name": "Python 3 (ipykernel)",
   "language": "python",
   "name": "python3"
  },
  "language_info": {
   "codemirror_mode": {
    "name": "ipython",
    "version": 3
   },
   "file_extension": ".py",
   "mimetype": "text/x-python",
   "name": "python",
   "nbconvert_exporter": "python",
   "pygments_lexer": "ipython3",
   "version": "3.8.12"
  }
 },
 "nbformat": 4,
 "nbformat_minor": 2
}
